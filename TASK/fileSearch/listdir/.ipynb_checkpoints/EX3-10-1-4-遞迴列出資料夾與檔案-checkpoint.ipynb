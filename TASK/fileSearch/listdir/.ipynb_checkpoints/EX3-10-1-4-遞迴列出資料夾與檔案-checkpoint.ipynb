{
 "cells": [
  {
   "cell_type": "code",
   "execution_count": 1,
   "metadata": {
    "collapsed": true
   },
   "outputs": [],
   "source": [
    "import os"
   ]
  },
  {
   "cell_type": "code",
   "execution_count": 2,
   "metadata": {
    "collapsed": true
   },
   "outputs": [],
   "source": [
    "def find_dir(dir):\n",
    "    fds = os.listdir(dir)\n",
    "    for fd in fds:\n",
    "        full_path = os.path.join(dir, fd)\n",
    "        if os.path.isdir(full_path):\n",
    "            print('資料夾:',full_path)\n",
    "            find_dir(full_path)\n",
    "        else:\n",
    "            print('檔案:', full_path)"
   ]
  },
  {
   "cell_type": "code",
   "execution_count": 3,
   "metadata": {
    "collapsed": false
   },
   "outputs": [
    {
     "name": "stdout",
     "output_type": "stream",
     "text": [
      "資料夾: ./.ipynb_checkpoints\n",
      "檔案: ./.ipynb_checkpoints\\EX1-10-1-1-找出檔案與資料夾-checkpoint.ipynb\n",
      "檔案: ./.ipynb_checkpoints\\EX2-10-1-2-串列生成式-checkpoint.ipynb\n",
      "檔案: ./.ipynb_checkpoints\\EX3-10-1-4-遞迴列出資料夾與檔案-checkpoint.ipynb\n",
      "檔案: ./.ipynb_checkpoints\\isdirEX1-checkpoint.ipynb\n",
      "檔案: ./.ipynb_checkpoints\\isdirEX2-checkpoint.ipynb\n",
      "檔案: ./10-1-1-找出檔案與資料夾.py\n",
      "檔案: ./10-1-2-串列生成式.py\n",
      "檔案: ./10-1-4-遞迴列出資料夾與檔案.py\n",
      "檔案: ./EX1-10-1-1-找出檔案與資料夾.ipynb\n",
      "檔案: ./EX2-10-1-2-串列生成式.ipynb\n",
      "檔案: ./EX3-10-1-4-遞迴列出資料夾與檔案.ipynb\n",
      "檔案: ./readme.md\n",
      "資料夾: ./sampletree\n",
      "資料夾: ./sampletree\\a\n",
      "檔案: ./sampletree\\a\\f4\n",
      "檔案: ./sampletree\\a\\f5\n",
      "檔案: ./sampletree\\a\\f6\n",
      "資料夾: ./sampletree\\b\n",
      "資料夾: ./sampletree\\c\n",
      "檔案: ./sampletree\\f1\n",
      "檔案: ./sampletree\\f2\n",
      "檔案: ./sampletree\\f3\n"
     ]
    }
   ],
   "source": [
    "path = './'\n",
    "find_dir(path)"
   ]
  },
  {
   "cell_type": "code",
   "execution_count": null,
   "metadata": {
    "collapsed": true
   },
   "outputs": [],
   "source": []
  }
 ],
 "metadata": {
  "anaconda-cloud": {},
  "kernelspec": {
   "display_name": "Python [default]",
   "language": "python",
   "name": "python3"
  },
  "language_info": {
   "codemirror_mode": {
    "name": "ipython",
    "version": 3
   },
   "file_extension": ".py",
   "mimetype": "text/x-python",
   "name": "python",
   "nbconvert_exporter": "python",
   "pygments_lexer": "ipython3",
   "version": "3.5.2"
  }
 },
 "nbformat": 4,
 "nbformat_minor": 1
}
