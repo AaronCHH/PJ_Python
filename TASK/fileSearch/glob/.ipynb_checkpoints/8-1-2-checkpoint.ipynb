{
 "cells": [
  {
   "cell_type": "code",
   "execution_count": 4,
   "metadata": {
    "collapsed": false,
    "scrolled": true
   },
   "outputs": [
    {
     "name": "stdout",
     "output_type": "stream",
     "text": [
      "8-1.py\n",
      "8-2.py\n",
      "8-3.py\n",
      "8-4.py\n",
      "8-5.py\n",
      "8-6.py\n",
      "8-7.py\n",
      "8-8.py\n"
     ]
    }
   ],
   "source": [
    "import glob\n",
    "files = glob.glob(\"8-*.py\")\n",
    "for f in files:\n",
    "    print(f)"
   ]
  },
  {
   "cell_type": "code",
   "execution_count": 5,
   "metadata": {
    "collapsed": false
   },
   "outputs": [
    {
     "name": "stdout",
     "output_type": "stream",
     "text": [
      "D:\\GITHUB\\AaronCHH\\PythonProject\\fileSearch\\glob\\8-1.py\n",
      "D:\\GITHUB\\AaronCHH\\PythonProject\\fileSearch\\glob\\8-2.py\n",
      "D:\\GITHUB\\AaronCHH\\PythonProject\\fileSearch\\glob\\8-3.py\n",
      "D:\\GITHUB\\AaronCHH\\PythonProject\\fileSearch\\glob\\8-4.py\n",
      "D:\\GITHUB\\AaronCHH\\PythonProject\\fileSearch\\glob\\8-5.py\n",
      "D:\\GITHUB\\AaronCHH\\PythonProject\\fileSearch\\glob\\8-6.py\n",
      "D:\\GITHUB\\AaronCHH\\PythonProject\\fileSearch\\glob\\8-7.py\n",
      "D:\\GITHUB\\AaronCHH\\PythonProject\\fileSearch\\glob\\8-8.py\n"
     ]
    }
   ],
   "source": [
    "import os.path, glob\n",
    "files = glob.glob(\"8-*.py\")\n",
    "for f in files:\n",
    "    print(os.path.abspath(f))"
   ]
  },
  {
   "cell_type": "code",
   "execution_count": 3,
   "metadata": {
    "collapsed": false
   },
   "outputs": [
    {
     "data": {
      "text/plain": [
       "[]"
      ]
     },
     "execution_count": 3,
     "metadata": {},
     "output_type": "execute_result"
    }
   ],
   "source": [
    "import glob\n",
    "glob.glob(\"images\")"
   ]
  },
  {
   "cell_type": "code",
   "execution_count": null,
   "metadata": {
    "collapsed": true
   },
   "outputs": [],
   "source": []
  }
 ],
 "metadata": {
  "anaconda-cloud": {},
  "kernelspec": {
   "display_name": "Python [default]",
   "language": "python",
   "name": "python3"
  },
  "language_info": {
   "codemirror_mode": {
    "name": "ipython",
    "version": 3
   },
   "file_extension": ".py",
   "mimetype": "text/x-python",
   "name": "python",
   "nbconvert_exporter": "python",
   "pygments_lexer": "ipython3",
   "version": "3.5.2"
  }
 },
 "nbformat": 4,
 "nbformat_minor": 0
}
