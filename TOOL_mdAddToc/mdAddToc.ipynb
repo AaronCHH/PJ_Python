{
 "cells": [
  {
   "cell_type": "code",
   "execution_count": 30,
   "metadata": {
    "collapsed": true
   },
   "outputs": [],
   "source": [
    "import os, sys, glob\n",
    "from glob import glob"
   ]
  },
  {
   "cell_type": "code",
   "execution_count": 31,
   "metadata": {
    "collapsed": false
   },
   "outputs": [],
   "source": [
    "mdlist = glob('*.md')"
   ]
  },
  {
   "cell_type": "code",
   "execution_count": 32,
   "metadata": {
    "collapsed": false
   },
   "outputs": [
    {
     "data": {
      "text/plain": [
       "list"
      ]
     },
     "execution_count": 32,
     "metadata": {},
     "output_type": "execute_result"
    }
   ],
   "source": [
    "type(mdlist)"
   ]
  },
  {
   "cell_type": "code",
   "execution_count": 33,
   "metadata": {
    "collapsed": false
   },
   "outputs": [],
   "source": [
    "for file in mdlist:\n",
    "    # coding: utf-8\n",
    "    fp = open(file, 'r', encoding='utf-8')\n",
    "    lines = []\n",
    "    for line in fp: # 内置的迭代器, 效率很高\n",
    "        lines.append(line.strip())\n",
    "    fp.close()\n",
    "\n",
    "    lines.insert(2, '<!-- toc orderedList:0 depthFrom:1 depthTo:6 -->') # 在第二行插入\n",
    "    lines.insert(3, '<!-- tocstop -->') # 在第二行插入\n",
    "    \n",
    "    s = '\\n'.join(lines)\n",
    "\n",
    "    fp = open(file, 'w', encoding='utf-8')\n",
    "    fp.write(s)\n",
    "    fp.close()"
   ]
  },
  {
   "cell_type": "code",
   "execution_count": null,
   "metadata": {
    "collapsed": true
   },
   "outputs": [],
   "source": []
  }
 ],
 "metadata": {
  "kernelspec": {
   "display_name": "Python 3",
   "language": "python",
   "name": "python3"
  },
  "language_info": {
   "codemirror_mode": {
    "name": "ipython",
    "version": 3
   },
   "file_extension": ".py",
   "mimetype": "text/x-python",
   "name": "python",
   "nbconvert_exporter": "python",
   "pygments_lexer": "ipython3",
   "version": "3.6.0"
  }
 },
 "nbformat": 4,
 "nbformat_minor": 2
}
