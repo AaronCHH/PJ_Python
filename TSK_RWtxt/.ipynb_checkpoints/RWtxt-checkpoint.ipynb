{
 "cells": [
  {
   "cell_type": "markdown",
   "metadata": {},
   "source": [
    "# Read"
   ]
  },
  {
   "cell_type": "markdown",
   "metadata": {},
   "source": [
    "## Case1"
   ]
  },
  {
   "cell_type": "code",
   "execution_count": 6,
   "metadata": {
    "collapsed": false
   },
   "outputs": [
    {
     "name": "stdout",
     "output_type": "stream",
     "text": [
      "I'm\n",
      "already\n",
      "much\n",
      "better\n",
      "at\n",
      "Python.\n"
     ]
    }
   ],
   "source": [
    "# input_file = sys.argv[1]\n",
    " \n",
    "infile = 'file_to_read.txt'    \n",
    "fr = open(infile, 'r')\n",
    "\n",
    "for row in fr:\n",
    "    print(row.strip())\n",
    "    \n",
    "fr.close()  "
   ]
  },
  {
   "cell_type": "markdown",
   "metadata": {},
   "source": [
    "## Case2"
   ]
  },
  {
   "cell_type": "code",
   "execution_count": 3,
   "metadata": {
    "collapsed": false
   },
   "outputs": [
    {
     "name": "stdout",
     "output_type": "stream",
     "text": [
      "I'm\n",
      "already\n",
      "much\n",
      "better\n",
      "at\n",
      "Python.\n"
     ]
    }
   ],
   "source": [
    "# input_file = sys.argv[1]\n",
    "\n",
    "infile = 'file_to_read.txt'\n",
    "\n",
    "with open(infile, 'r', newline='') as fr:\n",
    "    for row in fr:\n",
    "        print(\"{}\".format(row.strip()))"
   ]
  },
  {
   "cell_type": "markdown",
   "metadata": {
    "collapsed": true
   },
   "source": [
    "# Write"
   ]
  },
  {
   "cell_type": "markdown",
   "metadata": {},
   "source": [
    "## Case1"
   ]
  },
  {
   "cell_type": "code",
   "execution_count": 1,
   "metadata": {
    "collapsed": false
   },
   "outputs": [
    {
     "name": "stdout",
     "output_type": "stream",
     "text": [
      "Output #146: Output written to file\n"
     ]
    }
   ],
   "source": [
    "my_letters = ['a', 'b', 'c', 'd', 'e', 'f', 'g', 'h', 'i', 'j']\n",
    "max_index = len(my_letters)\n",
    "\n",
    "# output_file = sys.argv[1]\n",
    "output_file = 'outfile.txt'\n",
    "\n",
    "filewriter = open(output_file, 'w')\n",
    "\n",
    "for index_value in range(len(my_letters)):\n",
    "    if index_value < (max_index-1):\n",
    "        filewriter.write(my_letters[index_value]+'\\t')\n",
    "    else:\n",
    "        filewriter.write(my_letters[index_value]+'\\n')\n",
    "\n",
    "filewriter.close()\n",
    "\n",
    "print(\"Output #144: Output written to file\")"
   ]
  },
  {
   "cell_type": "markdown",
   "metadata": {},
   "source": [
    "## Case2"
   ]
  },
  {
   "cell_type": "code",
   "execution_count": 3,
   "metadata": {
    "collapsed": false
   },
   "outputs": [
    {
     "name": "stdout",
     "output_type": "stream",
     "text": [
      "Output #145: Output appended to file\n"
     ]
    }
   ],
   "source": [
    "# Write to a CSV file \n",
    "my_numbers = [0, 1, 2, 3, 4, 5, 6, 7, 8, 9] \n",
    "max_index = len(my_numbers)\n",
    "\n",
    "# output_file = sys.argv[1]\n",
    "output_file = 'outfile2.txt'\n",
    "\n",
    "filewriter = open(output_file, 'a')\n",
    "\n",
    "for index_value in range(len(my_numbers)):\n",
    "    if index_value < (max_index-1):\n",
    "        filewriter.write(str(my_numbers[index_value])+',')\n",
    "    else:\n",
    "        filewriter.write(str(my_numbers[index_value])+'\\n')\n",
    "\n",
    "filewriter.close()\n",
    "print(\"Output #145: Output appended to file\")"
   ]
  },
  {
   "cell_type": "code",
   "execution_count": null,
   "metadata": {
    "collapsed": true
   },
   "outputs": [],
   "source": []
  }
 ],
 "metadata": {
  "anaconda-cloud": {},
  "kernelspec": {
   "display_name": "Python [default]",
   "language": "python",
   "name": "python3"
  },
  "language_info": {
   "codemirror_mode": {
    "name": "ipython",
    "version": 3
   },
   "file_extension": ".py",
   "mimetype": "text/x-python",
   "name": "python",
   "nbconvert_exporter": "python",
   "pygments_lexer": "ipython3",
   "version": "3.5.2"
  }
 },
 "nbformat": 4,
 "nbformat_minor": 1
}
