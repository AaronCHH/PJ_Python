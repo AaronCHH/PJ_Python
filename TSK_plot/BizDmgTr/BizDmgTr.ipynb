{
 "cells": [
  {
   "cell_type": "markdown",
   "metadata": {},
   "source": [
    "# Plot parcel damage v.s. return period"
   ]
  },
  {
   "cell_type": "markdown",
   "metadata": {},
   "source": [
    "<div id=\"toc\"></div>"
   ]
  },
  {
   "cell_type": "code",
   "execution_count": 2,
   "metadata": {
    "collapsed": true
   },
   "outputs": [],
   "source": [
    "import sys, os\n",
    "import pandas as pd\n",
    "import numpy as np\n",
    "import matplotlib.pyplot as plt\n",
    "import matplotlib\n",
    "from matplotlib.ticker import FormatStrFormatter"
   ]
  },
  {
   "cell_type": "code",
   "execution_count": 3,
   "metadata": {
    "collapsed": true
   },
   "outputs": [],
   "source": [
    "%matplotlib inline"
   ]
  },
  {
   "cell_type": "code",
   "execution_count": 4,
   "metadata": {
    "collapsed": false
   },
   "outputs": [
    {
     "data": {
      "text/plain": [
       "'I:\\\\RESEARCH\\\\_PAPERS\\\\MANUSCRIPT\\\\FIG\\\\zCase_ForPaper\\\\BizDmgTr'"
      ]
     },
     "execution_count": 4,
     "metadata": {},
     "output_type": "execute_result"
    }
   ],
   "source": [
    "os.getcwd()"
   ]
  },
  {
   "cell_type": "markdown",
   "metadata": {},
   "source": [
    "## Read data"
   ]
  },
  {
   "cell_type": "code",
   "execution_count": 5,
   "metadata": {
    "collapsed": false
   },
   "outputs": [],
   "source": [
    "CC = pd.read_csv('CC/Cur2000DmgTr.csv',header=None)\n",
    "GP = pd.read_csv('GP/Cur2000DmgTr.csv',header=None)\n",
    "PC = pd.read_csv('PC/Cur2000DmgTr.csv',header=None)"
   ]
  },
  {
   "cell_type": "code",
   "execution_count": 6,
   "metadata": {
    "collapsed": false,
    "scrolled": true
   },
   "outputs": [
    {
     "data": {
      "text/html": [
       "<div>\n",
       "<table border=\"1\" class=\"dataframe\">\n",
       "  <thead>\n",
       "    <tr style=\"text-align: right;\">\n",
       "      <th></th>\n",
       "      <th>0</th>\n",
       "      <th>1</th>\n",
       "      <th>2</th>\n",
       "      <th>3</th>\n",
       "      <th>4</th>\n",
       "      <th>5</th>\n",
       "      <th>6</th>\n",
       "      <th>7</th>\n",
       "      <th>8</th>\n",
       "      <th>9</th>\n",
       "      <th>10</th>\n",
       "      <th>11</th>\n",
       "      <th>12</th>\n",
       "      <th>13</th>\n",
       "      <th>14</th>\n",
       "      <th>15</th>\n",
       "      <th>16</th>\n",
       "      <th>17</th>\n",
       "      <th>18</th>\n",
       "    </tr>\n",
       "  </thead>\n",
       "  <tbody>\n",
       "    <tr>\n",
       "      <th>0</th>\n",
       "      <td>10.0</td>\n",
       "      <td>-458081520.0</td>\n",
       "      <td>-2586.76720</td>\n",
       "      <td>-280.745990</td>\n",
       "      <td>-15967754.0</td>\n",
       "      <td>-352.979510</td>\n",
       "      <td>-17.254717</td>\n",
       "      <td>-1120101.40</td>\n",
       "      <td>-349.482310</td>\n",
       "      <td>-381.709210</td>\n",
       "      <td>-8293568.90</td>\n",
       "      <td>-59.078776</td>\n",
       "      <td>-3.376576</td>\n",
       "      <td>-17798129.0</td>\n",
       "      <td>-200.538360</td>\n",
       "      <td>-7.381352</td>\n",
       "      <td>-311743130.0</td>\n",
       "      <td>-1132.34220</td>\n",
       "      <td>-146.711290</td>\n",
       "    </tr>\n",
       "    <tr>\n",
       "      <th>1</th>\n",
       "      <td>20.0</td>\n",
       "      <td>-59052398.0</td>\n",
       "      <td>-570.89265</td>\n",
       "      <td>-60.479547</td>\n",
       "      <td>-3663127.7</td>\n",
       "      <td>-79.837081</td>\n",
       "      <td>-3.774052</td>\n",
       "      <td>-947727.25</td>\n",
       "      <td>-147.704650</td>\n",
       "      <td>-162.425510</td>\n",
       "      <td>-3885492.40</td>\n",
       "      <td>-28.526787</td>\n",
       "      <td>-0.869355</td>\n",
       "      <td>-7364521.7</td>\n",
       "      <td>-85.795241</td>\n",
       "      <td>-2.662638</td>\n",
       "      <td>-38538140.0</td>\n",
       "      <td>-226.69892</td>\n",
       "      <td>-29.647051</td>\n",
       "    </tr>\n",
       "    <tr>\n",
       "      <th>2</th>\n",
       "      <td>25.0</td>\n",
       "      <td>116674190.0</td>\n",
       "      <td>282.41574</td>\n",
       "      <td>37.507590</td>\n",
       "      <td>1847705.5</td>\n",
       "      <td>44.944638</td>\n",
       "      <td>3.912503</td>\n",
       "      <td>-861540.17</td>\n",
       "      <td>-46.815821</td>\n",
       "      <td>-52.783655</td>\n",
       "      <td>-1681454.20</td>\n",
       "      <td>-13.250792</td>\n",
       "      <td>0.384256</td>\n",
       "      <td>-2147718.2</td>\n",
       "      <td>-28.423683</td>\n",
       "      <td>-0.303280</td>\n",
       "      <td>113269450.0</td>\n",
       "      <td>208.52151</td>\n",
       "      <td>31.186978</td>\n",
       "    </tr>\n",
       "    <tr>\n",
       "      <th>3</th>\n",
       "      <td>30.0</td>\n",
       "      <td>248203640.0</td>\n",
       "      <td>1415.69440</td>\n",
       "      <td>150.589500</td>\n",
       "      <td>10676953.0</td>\n",
       "      <td>253.080360</td>\n",
       "      <td>16.479833</td>\n",
       "      <td>-775353.09</td>\n",
       "      <td>16.916257</td>\n",
       "      <td>0.928401</td>\n",
       "      <td>522584.01</td>\n",
       "      <td>2.025203</td>\n",
       "      <td>2.254537</td>\n",
       "      <td>3614193.0</td>\n",
       "      <td>22.455641</td>\n",
       "      <td>3.146207</td>\n",
       "      <td>223267520.0</td>\n",
       "      <td>1014.95540</td>\n",
       "      <td>122.064810</td>\n",
       "    </tr>\n",
       "    <tr>\n",
       "      <th>4</th>\n",
       "      <td>40.0</td>\n",
       "      <td>353142740.0</td>\n",
       "      <td>2274.55190</td>\n",
       "      <td>250.749750</td>\n",
       "      <td>14654066.0</td>\n",
       "      <td>349.924520</td>\n",
       "      <td>25.098574</td>\n",
       "      <td>-602978.94</td>\n",
       "      <td>117.091960</td>\n",
       "      <td>2.847537</td>\n",
       "      <td>3935596.70</td>\n",
       "      <td>21.003085</td>\n",
       "      <td>6.734990</td>\n",
       "      <td>8641713.1</td>\n",
       "      <td>51.537924</td>\n",
       "      <td>7.667331</td>\n",
       "      <td>300615870.0</td>\n",
       "      <td>1616.13210</td>\n",
       "      <td>208.143350</td>\n",
       "    </tr>\n",
       "  </tbody>\n",
       "</table>\n",
       "</div>"
      ],
      "text/plain": [
       "     0            1           2           3           4           5   \\\n",
       "0  10.0 -458081520.0 -2586.76720 -280.745990 -15967754.0 -352.979510   \n",
       "1  20.0  -59052398.0  -570.89265  -60.479547  -3663127.7  -79.837081   \n",
       "2  25.0  116674190.0   282.41574   37.507590   1847705.5   44.944638   \n",
       "3  30.0  248203640.0  1415.69440  150.589500  10676953.0  253.080360   \n",
       "4  40.0  353142740.0  2274.55190  250.749750  14654066.0  349.924520   \n",
       "\n",
       "          6           7           8           9           10         11  \\\n",
       "0 -17.254717 -1120101.40 -349.482310 -381.709210 -8293568.90 -59.078776   \n",
       "1  -3.774052  -947727.25 -147.704650 -162.425510 -3885492.40 -28.526787   \n",
       "2   3.912503  -861540.17  -46.815821  -52.783655 -1681454.20 -13.250792   \n",
       "3  16.479833  -775353.09   16.916257    0.928401   522584.01   2.025203   \n",
       "4  25.098574  -602978.94  117.091960    2.847537  3935596.70  21.003085   \n",
       "\n",
       "         12          13          14        15           16          17  \\\n",
       "0 -3.376576 -17798129.0 -200.538360 -7.381352 -311743130.0 -1132.34220   \n",
       "1 -0.869355  -7364521.7  -85.795241 -2.662638  -38538140.0  -226.69892   \n",
       "2  0.384256  -2147718.2  -28.423683 -0.303280  113269450.0   208.52151   \n",
       "3  2.254537   3614193.0   22.455641  3.146207  223267520.0  1014.95540   \n",
       "4  6.734990   8641713.1   51.537924  7.667331  300615870.0  1616.13210   \n",
       "\n",
       "           18  \n",
       "0 -146.711290  \n",
       "1  -29.647051  \n",
       "2   31.186978  \n",
       "3  122.064810  \n",
       "4  208.143350  "
      ]
     },
     "execution_count": 6,
     "metadata": {},
     "output_type": "execute_result"
    }
   ],
   "source": [
    "CC.head() # SEC"
   ]
  },
  {
   "cell_type": "code",
   "execution_count": 7,
   "metadata": {
    "collapsed": false,
    "scrolled": false
   },
   "outputs": [
    {
     "data": {
      "text/html": [
       "<div>\n",
       "<table border=\"1\" class=\"dataframe\">\n",
       "  <thead>\n",
       "    <tr style=\"text-align: right;\">\n",
       "      <th></th>\n",
       "      <th>0</th>\n",
       "      <th>1</th>\n",
       "      <th>2</th>\n",
       "      <th>3</th>\n",
       "      <th>4</th>\n",
       "      <th>5</th>\n",
       "      <th>6</th>\n",
       "      <th>7</th>\n",
       "      <th>8</th>\n",
       "      <th>9</th>\n",
       "      <th>10</th>\n",
       "      <th>11</th>\n",
       "      <th>12</th>\n",
       "      <th>13</th>\n",
       "      <th>14</th>\n",
       "      <th>15</th>\n",
       "      <th>16</th>\n",
       "      <th>17</th>\n",
       "      <th>18</th>\n",
       "    </tr>\n",
       "  </thead>\n",
       "  <tbody>\n",
       "    <tr>\n",
       "      <th>0</th>\n",
       "      <td>10.0</td>\n",
       "      <td>-24007.47000</td>\n",
       "      <td>-1.530721e+09</td>\n",
       "      <td>-453.22803</td>\n",
       "      <td>-1.761755e+08</td>\n",
       "      <td>-8.815856e+10</td>\n",
       "      <td>-387.932960</td>\n",
       "      <td>-418.186550</td>\n",
       "      <td>-2.041338e+07</td>\n",
       "      <td>-104.804520</td>\n",
       "      <td>-1260.328600</td>\n",
       "      <td>-281770310.0</td>\n",
       "      <td>-189.464570</td>\n",
       "      <td>-1044.179800</td>\n",
       "      <td>-3403703.10</td>\n",
       "      <td>-24.561793</td>\n",
       "      <td>-1576.035800</td>\n",
       "      <td>-2.601586e+08</td>\n",
       "      <td>-330.685250</td>\n",
       "    </tr>\n",
       "    <tr>\n",
       "      <th>1</th>\n",
       "      <td>20.0</td>\n",
       "      <td>-188.69644</td>\n",
       "      <td>1.625416e+07</td>\n",
       "      <td>-2.76867</td>\n",
       "      <td>-3.543557e+06</td>\n",
       "      <td>-1.772349e+09</td>\n",
       "      <td>-4.363539</td>\n",
       "      <td>-2.388301</td>\n",
       "      <td>4.141875e+03</td>\n",
       "      <td>-0.654036</td>\n",
       "      <td>-650.020080</td>\n",
       "      <td>-145397620.0</td>\n",
       "      <td>-97.015290</td>\n",
       "      <td>-470.184350</td>\n",
       "      <td>-2093651.20</td>\n",
       "      <td>-11.218924</td>\n",
       "      <td>65.061801</td>\n",
       "      <td>1.343890e+07</td>\n",
       "      <td>-1.430209</td>\n",
       "    </tr>\n",
       "    <tr>\n",
       "      <th>2</th>\n",
       "      <td>25.0</td>\n",
       "      <td>6968.17830</td>\n",
       "      <td>6.826618e+08</td>\n",
       "      <td>170.01504</td>\n",
       "      <td>4.682580e+03</td>\n",
       "      <td>3.398645e+08</td>\n",
       "      <td>10.906099</td>\n",
       "      <td>379.249190</td>\n",
       "      <td>2.234796e+07</td>\n",
       "      <td>28.546463</td>\n",
       "      <td>-344.865820</td>\n",
       "      <td>-77211271.0</td>\n",
       "      <td>-50.790649</td>\n",
       "      <td>-183.186630</td>\n",
       "      <td>-1438625.20</td>\n",
       "      <td>-4.547489</td>\n",
       "      <td>1927.369700</td>\n",
       "      <td>3.225559e+08</td>\n",
       "      <td>132.842850</td>\n",
       "    </tr>\n",
       "    <tr>\n",
       "      <th>3</th>\n",
       "      <td>30.0</td>\n",
       "      <td>10640.92700</td>\n",
       "      <td>1.204554e+09</td>\n",
       "      <td>370.56372</td>\n",
       "      <td>6.162863e+03</td>\n",
       "      <td>4.009471e+08</td>\n",
       "      <td>16.976885</td>\n",
       "      <td>718.726730</td>\n",
       "      <td>3.929331e+07</td>\n",
       "      <td>43.476784</td>\n",
       "      <td>-39.711563</td>\n",
       "      <td>-9024922.8</td>\n",
       "      <td>-4.566008</td>\n",
       "      <td>96.453639</td>\n",
       "      <td>-783599.28</td>\n",
       "      <td>1.889155</td>\n",
       "      <td>3629.978600</td>\n",
       "      <td>6.647556e+08</td>\n",
       "      <td>310.358590</td>\n",
       "    </tr>\n",
       "    <tr>\n",
       "      <th>4</th>\n",
       "      <td>40.0</td>\n",
       "      <td>17473.66600</td>\n",
       "      <td>2.192361e+09</td>\n",
       "      <td>884.74195</td>\n",
       "      <td>9.611428e+03</td>\n",
       "      <td>6.486442e+08</td>\n",
       "      <td>26.941083</td>\n",
       "      <td>1327.918400</td>\n",
       "      <td>6.920269e+07</td>\n",
       "      <td>76.243254</td>\n",
       "      <td>146.258730</td>\n",
       "      <td>26176816.0</td>\n",
       "      <td>30.686724</td>\n",
       "      <td>208.353340</td>\n",
       "      <td>547030.51</td>\n",
       "      <td>7.126732</td>\n",
       "      <td>6285.668200</td>\n",
       "      <td>1.466060e+09</td>\n",
       "      <td>746.665880</td>\n",
       "    </tr>\n",
       "  </tbody>\n",
       "</table>\n",
       "</div>"
      ],
      "text/plain": [
       "     0            1             2          3             4             5   \\\n",
       "0  10.0 -24007.47000 -1.530721e+09 -453.22803 -1.761755e+08 -8.815856e+10   \n",
       "1  20.0   -188.69644  1.625416e+07   -2.76867 -3.543557e+06 -1.772349e+09   \n",
       "2  25.0   6968.17830  6.826618e+08  170.01504  4.682580e+03  3.398645e+08   \n",
       "3  30.0  10640.92700  1.204554e+09  370.56372  6.162863e+03  4.009471e+08   \n",
       "4  40.0  17473.66600  2.192361e+09  884.74195  9.611428e+03  6.486442e+08   \n",
       "\n",
       "           6            7             8           9            10  \\\n",
       "0 -387.932960  -418.186550 -2.041338e+07 -104.804520 -1260.328600   \n",
       "1   -4.363539    -2.388301  4.141875e+03   -0.654036  -650.020080   \n",
       "2   10.906099   379.249190  2.234796e+07   28.546463  -344.865820   \n",
       "3   16.976885   718.726730  3.929331e+07   43.476784   -39.711563   \n",
       "4   26.941083  1327.918400  6.920269e+07   76.243254   146.258730   \n",
       "\n",
       "            11          12           13          14         15           16  \\\n",
       "0 -281770310.0 -189.464570 -1044.179800 -3403703.10 -24.561793 -1576.035800   \n",
       "1 -145397620.0  -97.015290  -470.184350 -2093651.20 -11.218924    65.061801   \n",
       "2  -77211271.0  -50.790649  -183.186630 -1438625.20  -4.547489  1927.369700   \n",
       "3   -9024922.8   -4.566008    96.453639  -783599.28   1.889155  3629.978600   \n",
       "4   26176816.0   30.686724   208.353340   547030.51   7.126732  6285.668200   \n",
       "\n",
       "             17          18  \n",
       "0 -2.601586e+08 -330.685250  \n",
       "1  1.343890e+07   -1.430209  \n",
       "2  3.225559e+08  132.842850  \n",
       "3  6.647556e+08  310.358590  \n",
       "4  1.466060e+09  746.665880  "
      ]
     },
     "execution_count": 7,
     "metadata": {},
     "output_type": "execute_result"
    }
   ],
   "source": [
    "GP.head() # ESC"
   ]
  },
  {
   "cell_type": "code",
   "execution_count": 8,
   "metadata": {
    "collapsed": false,
    "scrolled": true
   },
   "outputs": [
    {
     "data": {
      "text/html": [
       "<div>\n",
       "<table border=\"1\" class=\"dataframe\">\n",
       "  <thead>\n",
       "    <tr style=\"text-align: right;\">\n",
       "      <th></th>\n",
       "      <th>0</th>\n",
       "      <th>1</th>\n",
       "      <th>2</th>\n",
       "      <th>3</th>\n",
       "      <th>4</th>\n",
       "      <th>5</th>\n",
       "      <th>6</th>\n",
       "      <th>7</th>\n",
       "      <th>8</th>\n",
       "      <th>9</th>\n",
       "      <th>10</th>\n",
       "      <th>11</th>\n",
       "      <th>12</th>\n",
       "      <th>13</th>\n",
       "      <th>14</th>\n",
       "      <th>15</th>\n",
       "      <th>16</th>\n",
       "      <th>17</th>\n",
       "      <th>18</th>\n",
       "    </tr>\n",
       "  </thead>\n",
       "  <tbody>\n",
       "    <tr>\n",
       "      <th>0</th>\n",
       "      <td>10.0</td>\n",
       "      <td>-182287540.0</td>\n",
       "      <td>-3002.37880</td>\n",
       "      <td>-120.926610</td>\n",
       "      <td>-6856810.50</td>\n",
       "      <td>-152.630090</td>\n",
       "      <td>-13.370522</td>\n",
       "      <td>-30161224.0</td>\n",
       "      <td>-109.454330</td>\n",
       "      <td>-7.361901</td>\n",
       "      <td>-1542736.70</td>\n",
       "      <td>-5084.87950</td>\n",
       "      <td>-107.354470</td>\n",
       "      <td>-5997802.200</td>\n",
       "      <td>-37.400451</td>\n",
       "      <td>-20.650906</td>\n",
       "      <td>-185191470.0</td>\n",
       "      <td>-3842.91170</td>\n",
       "      <td>-122.538900</td>\n",
       "    </tr>\n",
       "    <tr>\n",
       "      <th>1</th>\n",
       "      <td>20.0</td>\n",
       "      <td>-83488629.0</td>\n",
       "      <td>-815.45297</td>\n",
       "      <td>-39.307796</td>\n",
       "      <td>-3840415.80</td>\n",
       "      <td>-86.098323</td>\n",
       "      <td>-6.853840</td>\n",
       "      <td>-20450046.0</td>\n",
       "      <td>-71.733600</td>\n",
       "      <td>-4.062180</td>\n",
       "      <td>-1189459.30</td>\n",
       "      <td>-578.59879</td>\n",
       "      <td>-12.158481</td>\n",
       "      <td>-2007765.500</td>\n",
       "      <td>-12.295672</td>\n",
       "      <td>-6.174144</td>\n",
       "      <td>-85898282.0</td>\n",
       "      <td>-1152.38570</td>\n",
       "      <td>-43.382489</td>\n",
       "    </tr>\n",
       "    <tr>\n",
       "      <th>2</th>\n",
       "      <td>25.0</td>\n",
       "      <td>-34089171.0</td>\n",
       "      <td>278.00995</td>\n",
       "      <td>1.501609</td>\n",
       "      <td>-2332218.50</td>\n",
       "      <td>-52.832438</td>\n",
       "      <td>-3.595499</td>\n",
       "      <td>-15594457.0</td>\n",
       "      <td>-52.873236</td>\n",
       "      <td>-2.412320</td>\n",
       "      <td>-1012820.60</td>\n",
       "      <td>110.76414</td>\n",
       "      <td>1.820722</td>\n",
       "      <td>-12747.158</td>\n",
       "      <td>0.256717</td>\n",
       "      <td>1.064238</td>\n",
       "      <td>-36251686.0</td>\n",
       "      <td>192.87728</td>\n",
       "      <td>-3.804284</td>\n",
       "    </tr>\n",
       "    <tr>\n",
       "      <th>3</th>\n",
       "      <td>30.0</td>\n",
       "      <td>15310287.0</td>\n",
       "      <td>486.83794</td>\n",
       "      <td>42.469979</td>\n",
       "      <td>-824021.09</td>\n",
       "      <td>-19.566553</td>\n",
       "      <td>-0.337157</td>\n",
       "      <td>-10738868.0</td>\n",
       "      <td>-34.012872</td>\n",
       "      <td>-0.762459</td>\n",
       "      <td>-836181.86</td>\n",
       "      <td>113.27506</td>\n",
       "      <td>1.906807</td>\n",
       "      <td>1982271.200</td>\n",
       "      <td>12.779760</td>\n",
       "      <td>6.339250</td>\n",
       "      <td>13394909.0</td>\n",
       "      <td>375.56415</td>\n",
       "      <td>33.529287</td>\n",
       "    </tr>\n",
       "    <tr>\n",
       "      <th>4</th>\n",
       "      <td>40.0</td>\n",
       "      <td>165763250.0</td>\n",
       "      <td>1155.06350</td>\n",
       "      <td>154.396100</td>\n",
       "      <td>2236568.40</td>\n",
       "      <td>47.854303</td>\n",
       "      <td>7.625438</td>\n",
       "      <td>-1027689.5</td>\n",
       "      <td>3.707857</td>\n",
       "      <td>2.537262</td>\n",
       "      <td>-482904.42</td>\n",
       "      <td>118.29690</td>\n",
       "      <td>2.078979</td>\n",
       "      <td>7567683.400</td>\n",
       "      <td>74.489071</td>\n",
       "      <td>17.800897</td>\n",
       "      <td>154786940.0</td>\n",
       "      <td>872.97987</td>\n",
       "      <td>124.873960</td>\n",
       "    </tr>\n",
       "  </tbody>\n",
       "</table>\n",
       "</div>"
      ],
      "text/plain": [
       "     0            1           2           3           4           5   \\\n",
       "0  10.0 -182287540.0 -3002.37880 -120.926610 -6856810.50 -152.630090   \n",
       "1  20.0  -83488629.0  -815.45297  -39.307796 -3840415.80  -86.098323   \n",
       "2  25.0  -34089171.0   278.00995    1.501609 -2332218.50  -52.832438   \n",
       "3  30.0   15310287.0   486.83794   42.469979  -824021.09  -19.566553   \n",
       "4  40.0  165763250.0  1155.06350  154.396100  2236568.40   47.854303   \n",
       "\n",
       "          6           7           8         9           10          11  \\\n",
       "0 -13.370522 -30161224.0 -109.454330 -7.361901 -1542736.70 -5084.87950   \n",
       "1  -6.853840 -20450046.0  -71.733600 -4.062180 -1189459.30  -578.59879   \n",
       "2  -3.595499 -15594457.0  -52.873236 -2.412320 -1012820.60   110.76414   \n",
       "3  -0.337157 -10738868.0  -34.012872 -0.762459  -836181.86   113.27506   \n",
       "4   7.625438  -1027689.5    3.707857  2.537262  -482904.42   118.29690   \n",
       "\n",
       "           12           13         14         15           16          17  \\\n",
       "0 -107.354470 -5997802.200 -37.400451 -20.650906 -185191470.0 -3842.91170   \n",
       "1  -12.158481 -2007765.500 -12.295672  -6.174144  -85898282.0 -1152.38570   \n",
       "2    1.820722   -12747.158   0.256717   1.064238  -36251686.0   192.87728   \n",
       "3    1.906807  1982271.200  12.779760   6.339250   13394909.0   375.56415   \n",
       "4    2.078979  7567683.400  74.489071  17.800897  154786940.0   872.97987   \n",
       "\n",
       "           18  \n",
       "0 -122.538900  \n",
       "1  -43.382489  \n",
       "2   -3.804284  \n",
       "3   33.529287  \n",
       "4  124.873960  "
      ]
     },
     "execution_count": 8,
     "metadata": {},
     "output_type": "execute_result"
    }
   ],
   "source": [
    "PC.head() # SEC"
   ]
  },
  {
   "cell_type": "markdown",
   "metadata": {},
   "source": [
    "## Plot Sales Volume"
   ]
  },
  {
   "cell_type": "code",
   "execution_count": 9,
   "metadata": {
    "collapsed": false,
    "scrolled": false
   },
   "outputs": [
    {
     "data": {
      "image/png": "[encoded data removed]",
      "text/plain": [
       "<matplotlib.figure.Figure at 0x64edb4edd8>"
      ]
     },
     "metadata": {},
     "output_type": "display_data"
    }
   ],
   "source": [
    "font = {'size':14}\n",
    "matplotlib.rc('font', **font)\n",
    "\n",
    "plt.semilogx(CC[0],CC[1]/1000000000,'-ko',\n",
    "             GP[0],GP[2]/1000000000,'-k^',\n",
    "             PC[0],PC[1]/1000000000,'-ks',markerfacecolor='white')\n",
    "\n",
    "plt.xlim([60,1000])\n",
    "plt.ylim([0, 12])\n",
    "plt.xticks([60,200,500,1000], ['60','200','500','1000'])\n",
    "plt.xlabel('Return Period (yr)')\n",
    "plt.ylabel('Sale Volume (billion USD)')\n",
    "plt.legend(['Corpus Christi, TX','Gulfport, MS','Panama, FL'], frameon=False)\n",
    "plt.tight_layout()\n",
    "plt.savefig('SV.png', dpi=300)"
   ]
  },
  {
   "cell_type": "markdown",
   "metadata": {
    "collapsed": true
   },
   "source": [
    "## Plot Employee Size"
   ]
  },
  {
   "cell_type": "code",
   "execution_count": 10,
   "metadata": {
    "collapsed": false,
    "scrolled": true
   },
   "outputs": [
    {
     "data": {
      "image/png": "[encoded data removed]",
      "text/plain": [
       "<matplotlib.figure.Figure at 0x64edc4c2e8>"
      ]
     },
     "metadata": {},
     "output_type": "display_data"
    }
   ],
   "source": [
    "plt.semilogx(CC[0],CC[2]/1000,'-ko',\n",
    "             GP[0],GP[1]/1000,'-k^',\n",
    "             PC[0],PC[2]/1000,'-ks',markerfacecolor='white')\n",
    "plt.xlim([60,1000])\n",
    "plt.ylim([0,80])\n",
    "plt.xticks([60,200,500,1000], ['60','200','500','1000'])\n",
    "plt.xlabel('Return Period (yr)')\n",
    "plt.ylabel('Employee Size (thousand)')\n",
    "plt.legend(['Corpus Christi, TX','Gulfport, MS','Panama, FL'], frameon=False)\n",
    "plt.tight_layout()\n",
    "plt.savefig('ES.png', dpi=300)"
   ]
  },
  {
   "cell_type": "markdown",
   "metadata": {
    "collapsed": true
   },
   "source": [
    "## Plot Business Count"
   ]
  },
  {
   "cell_type": "code",
   "execution_count": 11,
   "metadata": {
    "collapsed": false,
    "scrolled": false
   },
   "outputs": [
    {
     "data": {
      "image/png": "[encoded data removed]",
      "text/plain": [
       "<matplotlib.figure.Figure at 0x64edd77588>"
      ]
     },
     "metadata": {},
     "output_type": "display_data"
    }
   ],
   "source": [
    "plt.semilogx(CC[0],CC[3]/1000,'-ko',\n",
    "             GP[0],GP[3]/1000,'-k^',\n",
    "             PC[0],PC[3]/1000,'-ks',markerfacecolor='white')\n",
    "plt.xlim([60,1000])\n",
    "plt.ylim([0,8])\n",
    "plt.xticks([60,200,500,1000], ['60','200','500','1000'])\n",
    "plt.xlabel('Return Period (yr)')\n",
    "plt.ylabel(r'Business Count (thousand)')\n",
    "plt.legend(['Corpus Christi, TX','Gulfport, MS','Panama, FL'], frameon=False)\n",
    "plt.tight_layout()\n",
    "plt.savefig('BC.png', dpi=300)"
   ]
  },
  {
   "cell_type": "markdown",
   "metadata": {},
   "source": [
    "# Read Summary Table"
   ]
  },
  {
   "cell_type": "code",
   "execution_count": 12,
   "metadata": {
    "collapsed": true
   },
   "outputs": [],
   "source": [
    "from simpledbf import Dbf5"
   ]
  },
  {
   "cell_type": "code",
   "execution_count": 13,
   "metadata": {
    "collapsed": true
   },
   "outputs": [],
   "source": [
    "ST = pd.read_csv('BizTotal.csv')"
   ]
  },
  {
   "cell_type": "code",
   "execution_count": 14,
   "metadata": {
    "collapsed": false
   },
   "outputs": [
    {
     "data": {
      "text/html": [
       "<div>\n",
       "<table border=\"1\" class=\"dataframe\">\n",
       "  <thead>\n",
       "    <tr style=\"text-align: right;\">\n",
       "      <th></th>\n",
       "      <th>Unnamed: 0</th>\n",
       "      <th>S</th>\n",
       "      <th>E</th>\n",
       "      <th>C</th>\n",
       "    </tr>\n",
       "  </thead>\n",
       "  <tbody>\n",
       "    <tr>\n",
       "      <th>0</th>\n",
       "      <td>CC</td>\n",
       "      <td>30407637014</td>\n",
       "      <td>177867</td>\n",
       "      <td>18750</td>\n",
       "    </tr>\n",
       "    <tr>\n",
       "      <th>1</th>\n",
       "      <td>GP</td>\n",
       "      <td>17041938000</td>\n",
       "      <td>104065</td>\n",
       "      <td>11938</td>\n",
       "    </tr>\n",
       "    <tr>\n",
       "      <th>2</th>\n",
       "      <td>PC</td>\n",
       "      <td>16822190200</td>\n",
       "      <td>100152</td>\n",
       "      <td>11917</td>\n",
       "    </tr>\n",
       "    <tr>\n",
       "      <th>3</th>\n",
       "      <td>Total</td>\n",
       "      <td>64271765214</td>\n",
       "      <td>382084</td>\n",
       "      <td>42605</td>\n",
       "    </tr>\n",
       "  </tbody>\n",
       "</table>\n",
       "</div>"
      ],
      "text/plain": [
       "  Unnamed: 0            S       E      C\n",
       "0         CC  30407637014  177867  18750\n",
       "1         GP  17041938000  104065  11938\n",
       "2         PC  16822190200  100152  11917\n",
       "3      Total  64271765214  382084  42605"
      ]
     },
     "execution_count": 14,
     "metadata": {},
     "output_type": "execute_result"
    }
   ],
   "source": [
    "ST"
   ]
  },
  {
   "cell_type": "code",
   "execution_count": 15,
   "metadata": {
    "collapsed": false
   },
   "outputs": [],
   "source": [
    "TotS = ST.S[3]\n",
    "TotE = ST.E[3]\n",
    "TotC = ST.C[3]"
   ]
  },
  {
   "cell_type": "markdown",
   "metadata": {
    "collapsed": true
   },
   "source": [
    "# Plot biz damage in percentage"
   ]
  },
  {
   "cell_type": "markdown",
   "metadata": {},
   "source": [
    "## Plot Sales Volume pct"
   ]
  },
  {
   "cell_type": "code",
   "execution_count": 17,
   "metadata": {
    "collapsed": false,
    "scrolled": false
   },
   "outputs": [
    {
     "data": {
      "image/png": "[encoded data removed]",
      "text/plain": [
       "<matplotlib.figure.Figure at 0x64ee189b38>"
      ]
     },
     "metadata": {},
     "output_type": "display_data"
    }
   ],
   "source": [
    "font = {'size':14}\n",
    "matplotlib.rc('font', **font)\n",
    "\n",
    "fig, ax1 = plt.subplots()\n",
    "ax1.semilogx(CC[0],CC[1]/1000000000,'-ko',\n",
    "             GP[0],GP[2]/1000000000,'-k^',\n",
    "             PC[0],PC[1]/1000000000,'-ks',markerfacecolor='white')\n",
    "\n",
    "\n",
    "ax2 = ax1.twinx()\n",
    "ax2.semilogx(CC[0],CC[1]/TotS*100, alpha=0)\n",
    "\n",
    "ax2.yaxis.set_major_formatter(FormatStrFormatter('%.0f'))\n",
    "\n",
    "ax1.set_xlabel('Return Period (yr)')\n",
    "\n",
    "ax1.set_ylabel('Sales Volume (billion USD)')\n",
    "ax2.set_ylabel('Sales Volume (%)')\n",
    "\n",
    "ax1.set_xlim([60,1000])\n",
    "ax2.set_xlim([60,1000])\n",
    "\n",
    "ax1.set_ylim([0,TotS/1000000000*0.2])\n",
    "ax2.set_ylim([0,20])\n",
    "\n",
    "ax1.set_xticks([60,200,500,1000])\n",
    "ax1.set_xticklabels(['60','200','500','1000'])\n",
    "\n",
    "ax2.set_yticks([0,5,10,15,20])\n",
    "ax2.set_yticklabels(['0','5','10','15','20'])\n",
    "\n",
    "ax1.legend(['Corpus Christi, TX','Gulfport, MS','Panama, FL'], loc='upper left', frameon=False)\n",
    "\n",
    "plt.tight_layout()\n",
    "plt.savefig('SVpct.png', dpi=300)"
   ]
  },
  {
   "cell_type": "markdown",
   "metadata": {},
   "source": [
    "## Plot Employee Size pct"
   ]
  },
  {
   "cell_type": "code",
   "execution_count": 18,
   "metadata": {
    "collapsed": false,
    "scrolled": false
   },
   "outputs": [
    {
     "data": {
      "image/png": "[encoded data removed]",
      "text/plain": [
       "<matplotlib.figure.Figure at 0x64ee2beba8>"
      ]
     },
     "metadata": {},
     "output_type": "display_data"
    }
   ],
   "source": [
    "fig, ax1 = plt.subplots()\n",
    "ax1.semilogx(CC[0],CC[2]/1000,'-ko',\n",
    "             GP[0],GP[1]/1000,'-k^',\n",
    "             PC[0],PC[2]/1000,'-ks',markerfacecolor='white')\n",
    "\n",
    "ax2 = ax1.twinx()\n",
    "ax2.semilogx(CC[0],CC[1]/TotE*100, alpha=0)\n",
    "\n",
    "ax2.yaxis.set_major_formatter(FormatStrFormatter('%.0f'))\n",
    "\n",
    "ax1.set_xlabel('Return Period (yr)')\n",
    "\n",
    "ax1.set_ylabel('Employee Size (thousand)')\n",
    "ax2.set_ylabel('Employee Size (%)')\n",
    "\n",
    "ax1.set_xlim([60,1000])\n",
    "ax2.set_xlim([60,1000])\n",
    "\n",
    "ax1.set_ylim([0,TotE/1000*0.2])\n",
    "ax2.set_ylim([0,100*0.2])\n",
    "\n",
    "ax1.set_xticks([60,200,500,1000])\n",
    "ax1.set_xticklabels(['60','200','500','1000'])\n",
    "\n",
    "ax2.set_yticks([0,5,10,15,20])\n",
    "ax2.set_yticklabels(['0','5','10','15','20'])\n",
    "\n",
    "ax1.legend(['Corpus Christi, TX','Gulfport, MS','Panama, FL'], loc='upper left', frameon=False)\n",
    "\n",
    "plt.tight_layout()\n",
    "plt.savefig('ESpct.png', dpi=300)"
   ]
  },
  {
   "cell_type": "markdown",
   "metadata": {},
   "source": [
    "## Plot Business Count pct"
   ]
  },
  {
   "cell_type": "code",
   "execution_count": 19,
   "metadata": {
    "collapsed": false,
    "scrolled": true
   },
   "outputs": [
    {
     "data": {
      "image/png": "[encoded data removed]",
      "text/plain": [
       "<matplotlib.figure.Figure at 0x64edc26860>"
      ]
     },
     "metadata": {},
     "output_type": "display_data"
    }
   ],
   "source": [
    "fig, ax1 = plt.subplots()\n",
    "ax1.semilogx(CC[0],CC[3]/1000,'-ko',\n",
    "             GP[0],GP[3]/1000,'-k^',\n",
    "             PC[0],PC[3]/1000,'-ks',markerfacecolor='white')\n",
    "\n",
    "ax2 = ax1.twinx()\n",
    "ax2.semilogx(CC[0],CC[1]/TotE*100, alpha=0)\n",
    "\n",
    "ax2.yaxis.set_major_formatter(FormatStrFormatter('%.0f'))\n",
    "\n",
    "ax1.set_xlabel('Return Period (yr)')\n",
    "\n",
    "ax1.set_ylabel('Business Count (thousand)')\n",
    "ax2.set_ylabel('Business Count (%)')\n",
    "\n",
    "ax1.set_xlim([60,1000])\n",
    "ax2.set_xlim([60,1000])\n",
    "\n",
    "ax1.set_ylim([0,TotC/1000*0.2])\n",
    "ax2.set_ylim([0,100*0.2])\n",
    "\n",
    "ax1.set_xticks([60,200,500,1000])\n",
    "ax1.set_xticklabels(['60','200','500','1000'])\n",
    "\n",
    "ax2.set_yticks([0,5,10,15,20])\n",
    "ax2.set_yticklabels(['0','5','10','15','20'])\n",
    "\n",
    "ax1.legend(['Corpus Christi, TX','Gulfport, MS','Panama, FL'], loc='upper left', frameon=False)\n",
    "\n",
    "plt.tight_layout()\n",
    "plt.savefig('BCpct.png', dpi=300)"
   ]
  },
  {
   "cell_type": "markdown",
   "metadata": {},
   "source": [
    "# Below is for reference\n",
    "\n",
    "\n",
    "\n",
    "\n",
    "\n",
    "\n",
    "\n",
    "\n",
    "\n"
   ]
  },
  {
   "cell_type": "code",
   "execution_count": null,
   "metadata": {
    "collapsed": true
   },
   "outputs": [],
   "source": [
    "\n",
    "\n",
    "\n",
    "\n",
    "\n",
    "\n"
   ]
  },
  {
   "cell_type": "code",
   "execution_count": 18,
   "metadata": {
    "collapsed": false,
    "scrolled": true
   },
   "outputs": [
    {
     "ename": "NameError",
     "evalue": "name 'ImpTotCC' is not defined",
     "output_type": "error",
     "traceback": [
      "\u001b[0;31m---------------------------------------------------------------------------\u001b[0m",
      "\u001b[0;31mNameError\u001b[0m                                 Traceback (most recent call last)",
      "\u001b[0;32m<ipython-input-18-798a7f13a281>\u001b[0m in \u001b[0;36m<module>\u001b[0;34m()\u001b[0m\n\u001b[1;32m      3\u001b[0m \u001b[1;33m\u001b[0m\u001b[0m\n\u001b[1;32m      4\u001b[0m \u001b[0max2\u001b[0m \u001b[1;33m=\u001b[0m \u001b[0max1\u001b[0m\u001b[1;33m.\u001b[0m\u001b[0mtwinx\u001b[0m\u001b[1;33m(\u001b[0m\u001b[1;33m)\u001b[0m\u001b[1;33m\u001b[0m\u001b[0m\n\u001b[0;32m----> 5\u001b[0;31m \u001b[0max2\u001b[0m\u001b[1;33m.\u001b[0m\u001b[0msemilogx\u001b[0m\u001b[1;33m(\u001b[0m\u001b[0mCC\u001b[0m\u001b[1;33m[\u001b[0m\u001b[1;36m0\u001b[0m\u001b[1;33m]\u001b[0m\u001b[1;33m,\u001b[0m\u001b[0mCC\u001b[0m\u001b[1;33m[\u001b[0m\u001b[1;36m1\u001b[0m\u001b[1;33m]\u001b[0m\u001b[1;33m/\u001b[0m\u001b[0mImpTotCC\u001b[0m\u001b[1;33m*\u001b[0m\u001b[1;36m100\u001b[0m\u001b[1;33m*\u001b[0m\u001b[1;36m2\u001b[0m\u001b[1;33m,\u001b[0m \u001b[0malpha\u001b[0m\u001b[1;33m=\u001b[0m\u001b[1;36m0\u001b[0m\u001b[1;33m)\u001b[0m\u001b[1;33m\u001b[0m\u001b[0m\n\u001b[0m\u001b[1;32m      6\u001b[0m \u001b[1;33m\u001b[0m\u001b[0m\n\u001b[1;32m      7\u001b[0m \u001b[0max1\u001b[0m\u001b[1;33m.\u001b[0m\u001b[0mset_ylabel\u001b[0m\u001b[1;33m(\u001b[0m\u001b[1;34m'Loss (billion USD)'\u001b[0m\u001b[1;33m)\u001b[0m\u001b[1;33m\u001b[0m\u001b[0m\n",
      "\u001b[0;31mNameError\u001b[0m: name 'ImpTotCC' is not defined"
     ]
    },
    {
     "data": {
      "image/png": "[encoded data removed]",
      "text/plain": [
       "<matplotlib.figure.Figure at 0xb0fc0c0400>"
      ]
     },
     "metadata": {},
     "output_type": "display_data"
    }
   ],
   "source": [
    "fig, ax1 = plt.subplots()\n",
    "ax1.semilogx(CC[0],CC[1]/1000000000,'-ko',markerfacecolor='white')\n",
    "\n",
    "ax2 = ax1.twinx()\n",
    "ax2.semilogx(CC[0],CC[1]/ImpTotCC*100*2, alpha=0)\n",
    "\n",
    "ax1.set_ylabel('Loss (billion USD)')\n",
    "ax2.set_ylabel('Loss (%)')\n",
    "\n",
    "ax1.set_xlim([60,1000])\n",
    "ax2.set_xlim([60,1000])\n",
    "\n",
    "ax1.set_xlabel('Return Period (yr)')\n",
    "\n",
    "ax1.legend(['Corpus Christi, TX'], loc='upper left', frameon=False)\n",
    "\n",
    "ax1.set_xticks([60,200,500,1000])\n",
    "ax1.set_xticklabels(['60','200','500','1000'])\n",
    "\n",
    "plt.savefig('LossCC.png', dpi=300)\n",
    "\n",
    "# ax1.set_ylabel('Loss (billion USD)')\n",
    "# legend(['Corpus Christi, TX','Gulfport, MS','Panama, FL'])"
   ]
  },
  {
   "cell_type": "code",
   "execution_count": null,
   "metadata": {
    "collapsed": false,
    "scrolled": true
   },
   "outputs": [],
   "source": [
    "fig, ax1 = plt.subplots()\n",
    "ax1.semilogx(GP[0],GP[1]/1000000000,'-k^',markerfacecolor='white')\n",
    "\n",
    "ax2 = ax1.twinx()\n",
    "ax2.semilogx(GP[0],GP[1]/ImpTotGP*100, alpha=0.1)\n",
    "\n",
    "ax1.set_ylabel('Loss (billion USD)')\n",
    "ax2.set_ylabel('Loss (%)')\n",
    "\n",
    "ax1.set_xlim([60,1000])\n",
    "ax2.set_xlim([60,1000])\n",
    "\n",
    "ax1.set_xlabel('Return Period (yr)')\n",
    "\n",
    "ax1.legend(['Gulfport, MS'], loc='upper left', frameon=False)\n",
    "\n",
    "ax1.set_xticks([60,200,500,1000])\n",
    "ax1.set_xticklabels(['60','200','500','1000'])\n",
    "\n",
    "plt.savefig('LossGP.png', dpi=300)"
   ]
  },
  {
   "cell_type": "code",
   "execution_count": null,
   "metadata": {
    "collapsed": false,
    "scrolled": false
   },
   "outputs": [],
   "source": [
    "fig, ax1 = plt.subplots()\n",
    "ax1.semilogx(PC[0],PC[1]/1000000000,'-ks',markerfacecolor='white')\n",
    "\n",
    "ax2 = ax1.twinx()\n",
    "ax2.semilogx(PC[0],PC[1]/ImpTotPC*100, alpha=0.1)\n",
    "\n",
    "ax1.set_ylabel('Loss (billion USD)')\n",
    "ax2.set_ylabel('Loss (%)')\n",
    "\n",
    "ax1.set_xlim([60,1000])\n",
    "ax2.set_xlim([60,1000])\n",
    "\n",
    "ax1.set_ylim([0,ImpTotPC/1000000000])\n",
    "ax2.set_ylim([0,100])\n",
    "\n",
    "ax1.set_xlabel('Return Period (yr)')\n",
    "\n",
    "ax1.legend(['Gulfport, MS'], loc='upper left', frameon=False)\n",
    "\n",
    "ax1.set_xticks([60,200,500,1000])\n",
    "ax1.set_xticklabels(['60','200','500','1000'])\n",
    "\n",
    "plt.savefig('LossPC.png', dpi=300)"
   ]
  },
  {
   "cell_type": "code",
   "execution_count": null,
   "metadata": {
    "collapsed": true
   },
   "outputs": [],
   "source": []
  }
 ],
 "metadata": {
  "kernelspec": {
   "display_name": "Python 3",
   "language": "python",
   "name": "python3"
  },
  "language_info": {
   "codemirror_mode": {
    "name": "ipython",
    "version": 3
   },
   "file_extension": ".py",
   "mimetype": "text/x-python",
   "name": "python",
   "nbconvert_exporter": "python",
   "pygments_lexer": "ipython3",
   "version": "3.6.0"
  }
 },
 "nbformat": 4,
 "nbformat_minor": 2
}
