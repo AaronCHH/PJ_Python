{
 "cells": [
  {
   "cell_type": "markdown",
   "metadata": {},
   "source": [
    "# Plot parcel damage v.s. return period"
   ]
  },
  {
   "cell_type": "markdown",
   "metadata": {},
   "source": [
    "<div id=\"toc\"></div>"
   ]
  },
  {
   "cell_type": "code",
   "execution_count": 1,
   "metadata": {
    "collapsed": true
   },
   "outputs": [],
   "source": [
    "import sys, os\n",
    "import pandas as pd\n",
    "import numpy as np\n",
    "import matplotlib.pyplot as plt\n",
    "import matplotlib\n",
    "from matplotlib.ticker import FormatStrFormatter"
   ]
  },
  {
   "cell_type": "code",
   "execution_count": 2,
   "metadata": {
    "collapsed": true
   },
   "outputs": [],
   "source": [
    "%matplotlib inline"
   ]
  },
  {
   "cell_type": "code",
   "execution_count": 3,
   "metadata": {
    "collapsed": false
   },
   "outputs": [
    {
     "data": {
      "text/plain": [
       "'I:\\\\RESEARCH\\\\_PAPERS\\\\MANUSCRIPT\\\\FIG\\\\zCase_ForPaper\\\\PclDmgTr'"
      ]
     },
     "execution_count": 3,
     "metadata": {},
     "output_type": "execute_result"
    }
   ],
   "source": [
    "os.getcwd()"
   ]
  },
  {
   "cell_type": "markdown",
   "metadata": {},
   "source": [
    "## Read data"
   ]
  },
  {
   "cell_type": "code",
   "execution_count": 4,
   "metadata": {
    "collapsed": false
   },
   "outputs": [],
   "source": [
    "CC = pd.read_csv('CC/Cur2000DmgTr.csv',header=None)\n",
    "GP = pd.read_csv('GP/Cur2000DmgTr.csv',header=None)\n",
    "PC = pd.read_csv('PC/Cur2000DmgTr.csv',header=None)"
   ]
  },
  {
   "cell_type": "code",
   "execution_count": 5,
   "metadata": {
    "collapsed": false
   },
   "outputs": [
    {
     "data": {
      "text/html": [
       "<div>\n",
       "<table border=\"1\" class=\"dataframe\">\n",
       "  <thead>\n",
       "    <tr style=\"text-align: right;\">\n",
       "      <th></th>\n",
       "      <th>0</th>\n",
       "      <th>1</th>\n",
       "      <th>2</th>\n",
       "      <th>3</th>\n",
       "    </tr>\n",
       "  </thead>\n",
       "  <tbody>\n",
       "    <tr>\n",
       "      <th>0</th>\n",
       "      <td>10.0</td>\n",
       "      <td>NaN</td>\n",
       "      <td>NaN</td>\n",
       "      <td>NaN</td>\n",
       "    </tr>\n",
       "    <tr>\n",
       "      <th>1</th>\n",
       "      <td>20.0</td>\n",
       "      <td>NaN</td>\n",
       "      <td>NaN</td>\n",
       "      <td>NaN</td>\n",
       "    </tr>\n",
       "    <tr>\n",
       "      <th>2</th>\n",
       "      <td>25.0</td>\n",
       "      <td>NaN</td>\n",
       "      <td>NaN</td>\n",
       "      <td>NaN</td>\n",
       "    </tr>\n",
       "    <tr>\n",
       "      <th>3</th>\n",
       "      <td>30.0</td>\n",
       "      <td>NaN</td>\n",
       "      <td>NaN</td>\n",
       "      <td>NaN</td>\n",
       "    </tr>\n",
       "    <tr>\n",
       "      <th>4</th>\n",
       "      <td>40.0</td>\n",
       "      <td>2822729.9</td>\n",
       "      <td>1213.835</td>\n",
       "      <td>26138616.0</td>\n",
       "    </tr>\n",
       "  </tbody>\n",
       "</table>\n",
       "</div>"
      ],
      "text/plain": [
       "      0          1         2           3\n",
       "0  10.0        NaN       NaN         NaN\n",
       "1  20.0        NaN       NaN         NaN\n",
       "2  25.0        NaN       NaN         NaN\n",
       "3  30.0        NaN       NaN         NaN\n",
       "4  40.0  2822729.9  1213.835  26138616.0"
      ]
     },
     "execution_count": 5,
     "metadata": {},
     "output_type": "execute_result"
    }
   ],
   "source": [
    "CC.head()"
   ]
  },
  {
   "cell_type": "markdown",
   "metadata": {},
   "source": [
    "## Plot Loss"
   ]
  },
  {
   "cell_type": "code",
   "execution_count": 6,
   "metadata": {
    "collapsed": false,
    "scrolled": false
   },
   "outputs": [
    {
     "data": {
      "image/png": "[encoded data removed]",
      "text/plain": [
       "<matplotlib.figure.Figure at 0x98638d4630>"
      ]
     },
     "metadata": {},
     "output_type": "display_data"
    }
   ],
   "source": [
    "font = {'size':14}\n",
    "matplotlib.rc('font', **font)\n",
    "\n",
    "plt.semilogx(CC[0],CC[1]/1000000000,'-ko',\n",
    "             GP[0],GP[1]/1000000000,'-k^',\n",
    "             PC[0],PC[1]/1000000000,'-ks',markerfacecolor='white')\n",
    "\n",
    "plt.xlim([60,1000])\n",
    "plt.xticks([60,200,500,1000], ['60','200','500','1000'])\n",
    "plt.xlabel('Return Period (yr)')\n",
    "plt.ylabel('Loss (billion USD)')\n",
    "plt.legend(['Corpus Christi, TX','Gulfport, MS','Panama, FL'], frameon=False)\n",
    "plt.tight_layout()\n",
    "# plt.savefig('Loss.png', dpi=300)"
   ]
  },
  {
   "cell_type": "markdown",
   "metadata": {
    "collapsed": true
   },
   "source": [
    "## Plot Population"
   ]
  },
  {
   "cell_type": "code",
   "execution_count": 7,
   "metadata": {
    "collapsed": false
   },
   "outputs": [
    {
     "data": {
      "image/png": "[encoded data removed]",
      "text/plain": [
       "<matplotlib.figure.Figure at 0x9863dc8470>"
      ]
     },
     "metadata": {},
     "output_type": "display_data"
    }
   ],
   "source": [
    "plt.semilogx(CC[0],CC[2]/1000,'-ko',\n",
    "             GP[0],GP[2]/1000,'-k^',\n",
    "             PC[0],PC[2]/1000,'-ks',markerfacecolor='white')\n",
    "plt.xlim([60,1000])\n",
    "plt.xticks([60,200,500,1000], ['60','200','500','1000'])\n",
    "plt.xlabel('Return Period (yr)')\n",
    "plt.ylabel('Population (thousand)')\n",
    "plt.legend(['Corpus Christi, TX','Gulfport, MS','Panama, FL'], frameon=False)\n",
    "plt.tight_layout()\n",
    "# plt.savefig('Pop.png', dpi=300)"
   ]
  },
  {
   "cell_type": "markdown",
   "metadata": {
    "collapsed": true
   },
   "source": [
    "## Plot Area"
   ]
  },
  {
   "cell_type": "code",
   "execution_count": 8,
   "metadata": {
    "collapsed": false,
    "scrolled": false
   },
   "outputs": [
    {
     "data": {
      "image/png": "[encoded data removed]",
      "text/plain": [
       "<matplotlib.figure.Figure at 0x9863eb9a90>"
      ]
     },
     "metadata": {},
     "output_type": "display_data"
    }
   ],
   "source": [
    "plt.semilogx(CC[0],CC[3]/1000000,'-ko',\n",
    "             GP[0],GP[3]/1000000,'-k^',\n",
    "             PC[0],PC[3]/1000000,'-ks',markerfacecolor='white')\n",
    "plt.xlim([60,1000])\n",
    "plt.xticks([60,200,500,1000], ['60','200','500','1000'])\n",
    "plt.xlabel('Return Period (yr)')\n",
    "plt.ylabel(r'Area ($km^2$)')\n",
    "plt.legend(['Corpus Christi, TX','Gulfport, MS','Panama, FL'], frameon=False)\n",
    "plt.tight_layout()\n",
    "# plt.savefig('Area.png', dpi=300)"
   ]
  },
  {
   "cell_type": "markdown",
   "metadata": {},
   "source": [
    "# Read shapefile/dbf data"
   ]
  },
  {
   "cell_type": "code",
   "execution_count": 9,
   "metadata": {
    "collapsed": true
   },
   "outputs": [],
   "source": [
    "from simpledbf import Dbf5"
   ]
  },
  {
   "cell_type": "code",
   "execution_count": 10,
   "metadata": {
    "collapsed": true
   },
   "outputs": [],
   "source": [
    "dbf_CC = Dbf5('shp/CcPclExpDmg02.dbf')\n",
    "df_CC = dbf_CC.to_dataframe()"
   ]
  },
  {
   "cell_type": "code",
   "execution_count": 11,
   "metadata": {
    "collapsed": false,
    "scrolled": true
   },
   "outputs": [
    {
     "data": {
      "text/html": [
       "<div>\n",
       "<table border=\"1\" class=\"dataframe\">\n",
       "  <thead>\n",
       "    <tr style=\"text-align: right;\">\n",
       "      <th></th>\n",
       "      <th>PclID</th>\n",
       "      <th>HZBLKID</th>\n",
       "      <th>CNSBLKID</th>\n",
       "      <th>BGID</th>\n",
       "      <th>SRFID</th>\n",
       "      <th>ELV</th>\n",
       "      <th>IMPVAL</th>\n",
       "      <th>PCLPOP</th>\n",
       "      <th>AREA</th>\n",
       "      <th>CUR2000</th>\n",
       "      <th>...</th>\n",
       "      <th>IMP4</th>\n",
       "      <th>IMP5</th>\n",
       "      <th>IMP6</th>\n",
       "      <th>IMP7</th>\n",
       "      <th>Inc21</th>\n",
       "      <th>Inc31</th>\n",
       "      <th>Inc41</th>\n",
       "      <th>Inc51</th>\n",
       "      <th>Inc61</th>\n",
       "      <th>Inc71</th>\n",
       "    </tr>\n",
       "  </thead>\n",
       "  <tbody>\n",
       "    <tr>\n",
       "      <th>0</th>\n",
       "      <td>1</td>\n",
       "      <td>6521</td>\n",
       "      <td>9570</td>\n",
       "      <td>30</td>\n",
       "      <td>110</td>\n",
       "      <td>6.13</td>\n",
       "      <td>0.0</td>\n",
       "      <td>2.0</td>\n",
       "      <td>1330.0</td>\n",
       "      <td>0.000</td>\n",
       "      <td>...</td>\n",
       "      <td>0</td>\n",
       "      <td>0</td>\n",
       "      <td>0</td>\n",
       "      <td>0</td>\n",
       "      <td>0.000</td>\n",
       "      <td>0.000</td>\n",
       "      <td>0.00</td>\n",
       "      <td>0.000</td>\n",
       "      <td>0.000</td>\n",
       "      <td>0.000</td>\n",
       "    </tr>\n",
       "    <tr>\n",
       "      <th>1</th>\n",
       "      <td>2</td>\n",
       "      <td>6521</td>\n",
       "      <td>9570</td>\n",
       "      <td>30</td>\n",
       "      <td>110</td>\n",
       "      <td>6.04</td>\n",
       "      <td>57719.0</td>\n",
       "      <td>2.0</td>\n",
       "      <td>1306.0</td>\n",
       "      <td>0.009</td>\n",
       "      <td>...</td>\n",
       "      <td>57719</td>\n",
       "      <td>57719</td>\n",
       "      <td>57719</td>\n",
       "      <td>57719</td>\n",
       "      <td>0.021</td>\n",
       "      <td>0.033</td>\n",
       "      <td>0.06</td>\n",
       "      <td>0.091</td>\n",
       "      <td>0.394</td>\n",
       "      <td>2.466</td>\n",
       "    </tr>\n",
       "    <tr>\n",
       "      <th>2</th>\n",
       "      <td>3</td>\n",
       "      <td>6521</td>\n",
       "      <td>9570</td>\n",
       "      <td>30</td>\n",
       "      <td>110</td>\n",
       "      <td>5.87</td>\n",
       "      <td>0.0</td>\n",
       "      <td>1.0</td>\n",
       "      <td>650.0</td>\n",
       "      <td>0.000</td>\n",
       "      <td>...</td>\n",
       "      <td>0</td>\n",
       "      <td>0</td>\n",
       "      <td>0</td>\n",
       "      <td>0</td>\n",
       "      <td>0.000</td>\n",
       "      <td>0.000</td>\n",
       "      <td>0.00</td>\n",
       "      <td>0.000</td>\n",
       "      <td>0.000</td>\n",
       "      <td>0.000</td>\n",
       "    </tr>\n",
       "    <tr>\n",
       "      <th>3</th>\n",
       "      <td>4</td>\n",
       "      <td>6521</td>\n",
       "      <td>9570</td>\n",
       "      <td>30</td>\n",
       "      <td>110</td>\n",
       "      <td>5.77</td>\n",
       "      <td>0.0</td>\n",
       "      <td>1.0</td>\n",
       "      <td>651.0</td>\n",
       "      <td>0.000</td>\n",
       "      <td>...</td>\n",
       "      <td>0</td>\n",
       "      <td>0</td>\n",
       "      <td>0</td>\n",
       "      <td>0</td>\n",
       "      <td>0.000</td>\n",
       "      <td>0.000</td>\n",
       "      <td>0.00</td>\n",
       "      <td>0.000</td>\n",
       "      <td>0.000</td>\n",
       "      <td>0.000</td>\n",
       "    </tr>\n",
       "    <tr>\n",
       "      <th>4</th>\n",
       "      <td>5</td>\n",
       "      <td>6522</td>\n",
       "      <td>8779</td>\n",
       "      <td>30</td>\n",
       "      <td>109</td>\n",
       "      <td>6.20</td>\n",
       "      <td>0.0</td>\n",
       "      <td>6.0</td>\n",
       "      <td>2926.0</td>\n",
       "      <td>0.000</td>\n",
       "      <td>...</td>\n",
       "      <td>0</td>\n",
       "      <td>0</td>\n",
       "      <td>0</td>\n",
       "      <td>0</td>\n",
       "      <td>0.000</td>\n",
       "      <td>0.000</td>\n",
       "      <td>0.00</td>\n",
       "      <td>0.000</td>\n",
       "      <td>0.000</td>\n",
       "      <td>0.000</td>\n",
       "    </tr>\n",
       "  </tbody>\n",
       "</table>\n",
       "<p>5 rows × 29 columns</p>\n",
       "</div>"
      ],
      "text/plain": [
       "   PclID  HZBLKID  CNSBLKID  BGID  SRFID   ELV   IMPVAL  PCLPOP    AREA  \\\n",
       "0      1     6521      9570    30    110  6.13      0.0     2.0  1330.0   \n",
       "1      2     6521      9570    30    110  6.04  57719.0     2.0  1306.0   \n",
       "2      3     6521      9570    30    110  5.87      0.0     1.0   650.0   \n",
       "3      4     6521      9570    30    110  5.77      0.0     1.0   651.0   \n",
       "4      5     6522      8779    30    109  6.20      0.0     6.0  2926.0   \n",
       "\n",
       "   CUR2000  ...     IMP4   IMP5   IMP6   IMP7  Inc21  Inc31  Inc41  Inc51  \\\n",
       "0    0.000  ...        0      0      0      0  0.000  0.000   0.00  0.000   \n",
       "1    0.009  ...    57719  57719  57719  57719  0.021  0.033   0.06  0.091   \n",
       "2    0.000  ...        0      0      0      0  0.000  0.000   0.00  0.000   \n",
       "3    0.000  ...        0      0      0      0  0.000  0.000   0.00  0.000   \n",
       "4    0.000  ...        0      0      0      0  0.000  0.000   0.00  0.000   \n",
       "\n",
       "   Inc61  Inc71  \n",
       "0  0.000  0.000  \n",
       "1  0.394  2.466  \n",
       "2  0.000  0.000  \n",
       "3  0.000  0.000  \n",
       "4  0.000  0.000  \n",
       "\n",
       "[5 rows x 29 columns]"
      ]
     },
     "execution_count": 11,
     "metadata": {},
     "output_type": "execute_result"
    }
   ],
   "source": [
    "df_CC.head()"
   ]
  },
  {
   "cell_type": "code",
   "execution_count": 12,
   "metadata": {
    "collapsed": false
   },
   "outputs": [],
   "source": [
    "dbf_GP = Dbf5('shp/GpPclExpDmg02.dbf')\n",
    "df_GP = dbf_GP.to_dataframe()"
   ]
  },
  {
   "cell_type": "code",
   "execution_count": 13,
   "metadata": {
    "collapsed": false,
    "scrolled": false
   },
   "outputs": [
    {
     "data": {
      "text/html": [
       "<div>\n",
       "<table border=\"1\" class=\"dataframe\">\n",
       "  <thead>\n",
       "    <tr style=\"text-align: right;\">\n",
       "      <th></th>\n",
       "      <th>PclID</th>\n",
       "      <th>HZBLKID</th>\n",
       "      <th>CNSBLKID</th>\n",
       "      <th>BGID</th>\n",
       "      <th>SRFID</th>\n",
       "      <th>ELV</th>\n",
       "      <th>IMPVAL</th>\n",
       "      <th>PCLPOP</th>\n",
       "      <th>AREA</th>\n",
       "      <th>CUR2000</th>\n",
       "      <th>...</th>\n",
       "      <th>IMP4</th>\n",
       "      <th>IMP5</th>\n",
       "      <th>IMP6</th>\n",
       "      <th>IMP7</th>\n",
       "      <th>Inc21</th>\n",
       "      <th>Inc31</th>\n",
       "      <th>Inc41</th>\n",
       "      <th>Inc51</th>\n",
       "      <th>Inc61</th>\n",
       "      <th>Inc71</th>\n",
       "    </tr>\n",
       "  </thead>\n",
       "  <tbody>\n",
       "    <tr>\n",
       "      <th>0</th>\n",
       "      <td>1</td>\n",
       "      <td>716</td>\n",
       "      <td>2539</td>\n",
       "      <td>101</td>\n",
       "      <td>122</td>\n",
       "      <td>16.392</td>\n",
       "      <td>9.0</td>\n",
       "      <td>1.49</td>\n",
       "      <td>1049.74</td>\n",
       "      <td>0.0</td>\n",
       "      <td>...</td>\n",
       "      <td>9</td>\n",
       "      <td>9</td>\n",
       "      <td>9</td>\n",
       "      <td>9</td>\n",
       "      <td>0.0</td>\n",
       "      <td>0.0</td>\n",
       "      <td>0.0</td>\n",
       "      <td>0.0</td>\n",
       "      <td>0.0</td>\n",
       "      <td>0.0</td>\n",
       "    </tr>\n",
       "    <tr>\n",
       "      <th>1</th>\n",
       "      <td>2</td>\n",
       "      <td>4341</td>\n",
       "      <td>3387</td>\n",
       "      <td>44</td>\n",
       "      <td>122</td>\n",
       "      <td>7.504</td>\n",
       "      <td>0.0</td>\n",
       "      <td>0.18</td>\n",
       "      <td>612.89</td>\n",
       "      <td>0.0</td>\n",
       "      <td>...</td>\n",
       "      <td>0</td>\n",
       "      <td>0</td>\n",
       "      <td>0</td>\n",
       "      <td>0</td>\n",
       "      <td>0.0</td>\n",
       "      <td>0.0</td>\n",
       "      <td>0.0</td>\n",
       "      <td>0.0</td>\n",
       "      <td>0.0</td>\n",
       "      <td>0.0</td>\n",
       "    </tr>\n",
       "    <tr>\n",
       "      <th>2</th>\n",
       "      <td>3</td>\n",
       "      <td>4073</td>\n",
       "      <td>6237</td>\n",
       "      <td>22</td>\n",
       "      <td>35</td>\n",
       "      <td>45.758</td>\n",
       "      <td>8488.0</td>\n",
       "      <td>21.76</td>\n",
       "      <td>2478812.20</td>\n",
       "      <td>0.0</td>\n",
       "      <td>...</td>\n",
       "      <td>8488</td>\n",
       "      <td>8488</td>\n",
       "      <td>8488</td>\n",
       "      <td>8488</td>\n",
       "      <td>0.0</td>\n",
       "      <td>0.0</td>\n",
       "      <td>0.0</td>\n",
       "      <td>0.0</td>\n",
       "      <td>0.0</td>\n",
       "      <td>0.0</td>\n",
       "    </tr>\n",
       "    <tr>\n",
       "      <th>3</th>\n",
       "      <td>4</td>\n",
       "      <td>4073</td>\n",
       "      <td>6237</td>\n",
       "      <td>22</td>\n",
       "      <td>35</td>\n",
       "      <td>68.761</td>\n",
       "      <td>0.0</td>\n",
       "      <td>0.14</td>\n",
       "      <td>15596.00</td>\n",
       "      <td>0.0</td>\n",
       "      <td>...</td>\n",
       "      <td>0</td>\n",
       "      <td>0</td>\n",
       "      <td>0</td>\n",
       "      <td>0</td>\n",
       "      <td>0.0</td>\n",
       "      <td>0.0</td>\n",
       "      <td>0.0</td>\n",
       "      <td>0.0</td>\n",
       "      <td>0.0</td>\n",
       "      <td>0.0</td>\n",
       "    </tr>\n",
       "    <tr>\n",
       "      <th>4</th>\n",
       "      <td>5</td>\n",
       "      <td>4073</td>\n",
       "      <td>6237</td>\n",
       "      <td>22</td>\n",
       "      <td>35</td>\n",
       "      <td>71.181</td>\n",
       "      <td>24255.0</td>\n",
       "      <td>0.13</td>\n",
       "      <td>14644.57</td>\n",
       "      <td>0.0</td>\n",
       "      <td>...</td>\n",
       "      <td>24255</td>\n",
       "      <td>24255</td>\n",
       "      <td>24255</td>\n",
       "      <td>24255</td>\n",
       "      <td>0.0</td>\n",
       "      <td>0.0</td>\n",
       "      <td>0.0</td>\n",
       "      <td>0.0</td>\n",
       "      <td>0.0</td>\n",
       "      <td>0.0</td>\n",
       "    </tr>\n",
       "  </tbody>\n",
       "</table>\n",
       "<p>5 rows × 29 columns</p>\n",
       "</div>"
      ],
      "text/plain": [
       "   PclID  HZBLKID  CNSBLKID  BGID  SRFID     ELV   IMPVAL  PCLPOP        AREA  \\\n",
       "0      1      716      2539   101    122  16.392      9.0    1.49     1049.74   \n",
       "1      2     4341      3387    44    122   7.504      0.0    0.18      612.89   \n",
       "2      3     4073      6237    22     35  45.758   8488.0   21.76  2478812.20   \n",
       "3      4     4073      6237    22     35  68.761      0.0    0.14    15596.00   \n",
       "4      5     4073      6237    22     35  71.181  24255.0    0.13    14644.57   \n",
       "\n",
       "   CUR2000  ...     IMP4   IMP5   IMP6   IMP7  Inc21  Inc31  Inc41  Inc51  \\\n",
       "0      0.0  ...        9      9      9      9    0.0    0.0    0.0    0.0   \n",
       "1      0.0  ...        0      0      0      0    0.0    0.0    0.0    0.0   \n",
       "2      0.0  ...     8488   8488   8488   8488    0.0    0.0    0.0    0.0   \n",
       "3      0.0  ...        0      0      0      0    0.0    0.0    0.0    0.0   \n",
       "4      0.0  ...    24255  24255  24255  24255    0.0    0.0    0.0    0.0   \n",
       "\n",
       "   Inc61  Inc71  \n",
       "0    0.0    0.0  \n",
       "1    0.0    0.0  \n",
       "2    0.0    0.0  \n",
       "3    0.0    0.0  \n",
       "4    0.0    0.0  \n",
       "\n",
       "[5 rows x 29 columns]"
      ]
     },
     "execution_count": 13,
     "metadata": {},
     "output_type": "execute_result"
    }
   ],
   "source": [
    "df_GP.head()"
   ]
  },
  {
   "cell_type": "code",
   "execution_count": 14,
   "metadata": {
    "collapsed": true
   },
   "outputs": [],
   "source": [
    "dbf_PC = Dbf5('shp/PclExpDmg00.dbf')\n",
    "df_PC = dbf_PC.to_dataframe()"
   ]
  },
  {
   "cell_type": "code",
   "execution_count": 15,
   "metadata": {
    "collapsed": false,
    "scrolled": false
   },
   "outputs": [
    {
     "data": {
      "text/html": [
       "<div>\n",
       "<table border=\"1\" class=\"dataframe\">\n",
       "  <thead>\n",
       "    <tr style=\"text-align: right;\">\n",
       "      <th></th>\n",
       "      <th>PclId</th>\n",
       "      <th>HZBLKID</th>\n",
       "      <th>CNSBLKID</th>\n",
       "      <th>BGID</th>\n",
       "      <th>SRFID</th>\n",
       "      <th>ELV</th>\n",
       "      <th>IMPVAL</th>\n",
       "      <th>PCLPOP</th>\n",
       "      <th>AREA</th>\n",
       "      <th>CUR2000</th>\n",
       "      <th>...</th>\n",
       "      <th>B180LOW</th>\n",
       "      <th>A1B80MID</th>\n",
       "      <th>A1FI80HIGH</th>\n",
       "      <th>IMP1</th>\n",
       "      <th>IMP2</th>\n",
       "      <th>IMP3</th>\n",
       "      <th>IMP4</th>\n",
       "      <th>IMP5</th>\n",
       "      <th>IMP6</th>\n",
       "      <th>IMP7</th>\n",
       "    </tr>\n",
       "  </thead>\n",
       "  <tbody>\n",
       "    <tr>\n",
       "      <th>0</th>\n",
       "      <td>1</td>\n",
       "      <td>1464</td>\n",
       "      <td>5257</td>\n",
       "      <td>80</td>\n",
       "      <td>0</td>\n",
       "      <td>63.60</td>\n",
       "      <td>96631</td>\n",
       "      <td>1.662</td>\n",
       "      <td>41160.659</td>\n",
       "      <td>0.0</td>\n",
       "      <td>...</td>\n",
       "      <td>0.0</td>\n",
       "      <td>0.0</td>\n",
       "      <td>0.0</td>\n",
       "      <td>96631</td>\n",
       "      <td>96631</td>\n",
       "      <td>96631</td>\n",
       "      <td>96631</td>\n",
       "      <td>96631</td>\n",
       "      <td>96631</td>\n",
       "      <td>96631</td>\n",
       "    </tr>\n",
       "    <tr>\n",
       "      <th>1</th>\n",
       "      <td>2</td>\n",
       "      <td>1464</td>\n",
       "      <td>5257</td>\n",
       "      <td>80</td>\n",
       "      <td>0</td>\n",
       "      <td>62.65</td>\n",
       "      <td>7286</td>\n",
       "      <td>1.432</td>\n",
       "      <td>35462.713</td>\n",
       "      <td>0.0</td>\n",
       "      <td>...</td>\n",
       "      <td>0.0</td>\n",
       "      <td>0.0</td>\n",
       "      <td>0.0</td>\n",
       "      <td>7286</td>\n",
       "      <td>7286</td>\n",
       "      <td>7286</td>\n",
       "      <td>7286</td>\n",
       "      <td>7286</td>\n",
       "      <td>7286</td>\n",
       "      <td>7286</td>\n",
       "    </tr>\n",
       "    <tr>\n",
       "      <th>2</th>\n",
       "      <td>3</td>\n",
       "      <td>1464</td>\n",
       "      <td>5257</td>\n",
       "      <td>80</td>\n",
       "      <td>0</td>\n",
       "      <td>62.83</td>\n",
       "      <td>24987</td>\n",
       "      <td>1.599</td>\n",
       "      <td>39592.517</td>\n",
       "      <td>0.0</td>\n",
       "      <td>...</td>\n",
       "      <td>0.0</td>\n",
       "      <td>0.0</td>\n",
       "      <td>0.0</td>\n",
       "      <td>24987</td>\n",
       "      <td>24987</td>\n",
       "      <td>24987</td>\n",
       "      <td>24987</td>\n",
       "      <td>24987</td>\n",
       "      <td>24987</td>\n",
       "      <td>24987</td>\n",
       "    </tr>\n",
       "    <tr>\n",
       "      <th>3</th>\n",
       "      <td>4</td>\n",
       "      <td>1464</td>\n",
       "      <td>5257</td>\n",
       "      <td>80</td>\n",
       "      <td>0</td>\n",
       "      <td>63.28</td>\n",
       "      <td>0</td>\n",
       "      <td>0.857</td>\n",
       "      <td>21215.875</td>\n",
       "      <td>0.0</td>\n",
       "      <td>...</td>\n",
       "      <td>0.0</td>\n",
       "      <td>0.0</td>\n",
       "      <td>0.0</td>\n",
       "      <td>0</td>\n",
       "      <td>0</td>\n",
       "      <td>0</td>\n",
       "      <td>0</td>\n",
       "      <td>0</td>\n",
       "      <td>0</td>\n",
       "      <td>0</td>\n",
       "    </tr>\n",
       "    <tr>\n",
       "      <th>4</th>\n",
       "      <td>5</td>\n",
       "      <td>1464</td>\n",
       "      <td>5257</td>\n",
       "      <td>80</td>\n",
       "      <td>0</td>\n",
       "      <td>63.62</td>\n",
       "      <td>0</td>\n",
       "      <td>0.740</td>\n",
       "      <td>18314.453</td>\n",
       "      <td>0.0</td>\n",
       "      <td>...</td>\n",
       "      <td>0.0</td>\n",
       "      <td>0.0</td>\n",
       "      <td>0.0</td>\n",
       "      <td>0</td>\n",
       "      <td>0</td>\n",
       "      <td>0</td>\n",
       "      <td>0</td>\n",
       "      <td>0</td>\n",
       "      <td>0</td>\n",
       "      <td>0</td>\n",
       "    </tr>\n",
       "  </tbody>\n",
       "</table>\n",
       "<p>5 rows × 23 columns</p>\n",
       "</div>"
      ],
      "text/plain": [
       "   PclId  HZBLKID  CNSBLKID  BGID  SRFID    ELV  IMPVAL  PCLPOP       AREA  \\\n",
       "0      1     1464      5257    80      0  63.60   96631   1.662  41160.659   \n",
       "1      2     1464      5257    80      0  62.65    7286   1.432  35462.713   \n",
       "2      3     1464      5257    80      0  62.83   24987   1.599  39592.517   \n",
       "3      4     1464      5257    80      0  63.28       0   0.857  21215.875   \n",
       "4      5     1464      5257    80      0  63.62       0   0.740  18314.453   \n",
       "\n",
       "   CUR2000  ...    B180LOW  A1B80MID  A1FI80HIGH   IMP1   IMP2   IMP3   IMP4  \\\n",
       "0      0.0  ...        0.0       0.0         0.0  96631  96631  96631  96631   \n",
       "1      0.0  ...        0.0       0.0         0.0   7286   7286   7286   7286   \n",
       "2      0.0  ...        0.0       0.0         0.0  24987  24987  24987  24987   \n",
       "3      0.0  ...        0.0       0.0         0.0      0      0      0      0   \n",
       "4      0.0  ...        0.0       0.0         0.0      0      0      0      0   \n",
       "\n",
       "    IMP5   IMP6   IMP7  \n",
       "0  96631  96631  96631  \n",
       "1   7286   7286   7286  \n",
       "2  24987  24987  24987  \n",
       "3      0      0      0  \n",
       "4      0      0      0  \n",
       "\n",
       "[5 rows x 23 columns]"
      ]
     },
     "execution_count": 15,
     "metadata": {},
     "output_type": "execute_result"
    }
   ],
   "source": [
    "df_PC.head()"
   ]
  },
  {
   "cell_type": "code",
   "execution_count": 16,
   "metadata": {
    "collapsed": false
   },
   "outputs": [
    {
     "data": {
      "text/plain": [
       "12635600764.0"
      ]
     },
     "execution_count": 16,
     "metadata": {},
     "output_type": "execute_result"
    }
   ],
   "source": [
    "ImpTotCC = np.sum(df_CC.IMPVAL)\n",
    "ImpTotCC"
   ]
  },
  {
   "cell_type": "code",
   "execution_count": 17,
   "metadata": {
    "collapsed": false
   },
   "outputs": [
    {
     "data": {
      "text/plain": [
       "12635600764.0"
      ]
     },
     "execution_count": 17,
     "metadata": {},
     "output_type": "execute_result"
    }
   ],
   "source": [
    "# ImpTotCC = np.sum(df_CC.IMPVAL[df_CC.CUR2000>0])\n",
    "ImpTotCC = np.sum(df_CC.IMPVAL)\n",
    "ImpTotCC"
   ]
  },
  {
   "cell_type": "code",
   "execution_count": 18,
   "metadata": {
    "collapsed": false
   },
   "outputs": [
    {
     "data": {
      "text/plain": [
       "7397201051.0"
      ]
     },
     "execution_count": 18,
     "metadata": {},
     "output_type": "execute_result"
    }
   ],
   "source": [
    "ImpTotGP = np.sum(df_GP.IMPVAL)\n",
    "ImpTotGP"
   ]
  },
  {
   "cell_type": "code",
   "execution_count": 19,
   "metadata": {
    "collapsed": false
   },
   "outputs": [
    {
     "data": {
      "text/plain": [
       "757724588"
      ]
     },
     "execution_count": 19,
     "metadata": {},
     "output_type": "execute_result"
    }
   ],
   "source": [
    "ImpTotPC = np.sum(df_PC.IMPVAL)\n",
    "ImpTotPC"
   ]
  },
  {
   "cell_type": "code",
   "execution_count": 20,
   "metadata": {
    "collapsed": true
   },
   "outputs": [],
   "source": [
    "TotD = ImpTotCC + ImpTotGP + ImpTotPC"
   ]
  },
  {
   "cell_type": "code",
   "execution_count": 21,
   "metadata": {
    "collapsed": false
   },
   "outputs": [],
   "source": [
    "TotP = np.sum(df_CC.PCLPOP) + np.sum(df_CC.PCLPOP) + np.sum(df_CC.PCLPOP)"
   ]
  },
  {
   "cell_type": "code",
   "execution_count": 22,
   "metadata": {
    "collapsed": false
   },
   "outputs": [],
   "source": [
    "TotA = np.sum(df_CC.AREA) + np.sum(df_CC.AREA) + np.sum(df_CC.AREA)"
   ]
  },
  {
   "cell_type": "markdown",
   "metadata": {
    "collapsed": true
   },
   "source": [
    "## Plot parcel damage in percentage"
   ]
  },
  {
   "cell_type": "code",
   "execution_count": 23,
   "metadata": {
    "collapsed": false
   },
   "outputs": [
    {
     "data": {
      "image/png": "[encoded data removed]",
      "text/plain": [
       "<matplotlib.figure.Figure at 0x9863ebf9b0>"
      ]
     },
     "metadata": {},
     "output_type": "display_data"
    }
   ],
   "source": [
    "font = {'size':14}\n",
    "matplotlib.rc('font', **font)\n",
    "\n",
    "fig, ax1 = plt.subplots()\n",
    "plt.semilogx(CC[0],CC[1]/1000000000,'-ko',\n",
    "             GP[0],GP[1]/1000000000,'-k^',\n",
    "             PC[0],PC[1]/1000000000,'-ks',markerfacecolor='white')\n",
    "\n",
    "ax2 = ax1.twinx()\n",
    "ax2.semilogx(CC[0],CC[1]/TotD*100, alpha=0)\n",
    "\n",
    "ax1.yaxis.set_major_formatter(FormatStrFormatter('%.1f'))\n",
    "ax2.yaxis.set_major_formatter(FormatStrFormatter('%.0f'))\n",
    "\n",
    "ax1.set_xlabel('Return Period (yr)')\n",
    "\n",
    "ax1.set_ylabel('Loss (billion USD)')\n",
    "ax2.set_ylabel('Loss (%)')\n",
    "\n",
    "ax1.set_xlim([60,1000])\n",
    "ax2.set_xlim([60,1000])\n",
    "\n",
    "ax1.set_ylim([0,TotD/1000000000*0.1])\n",
    "ax2.set_ylim([0,10])\n",
    "\n",
    "ax1.set_xticks([60,200,500,1000])\n",
    "ax1.set_xticklabels(['60','200','500','1000'])\n",
    "\n",
    "ax1.set_yticks([0,0.5,1,1.5,2])\n",
    "ax1.set_yticklabels(['0','0.5','1','1.5','2'])\n",
    "\n",
    "ax2.set_yticks([0,5,10,15,20])\n",
    "ax2.set_yticklabels(['0','5','10','15','20'])\n",
    "\n",
    "ax1.legend(['Corpus Christi, TX','Gulfport, MS','Panama, FL'], loc='upper left', frameon=False)\n",
    "\n",
    "plt.tight_layout()\n",
    "plt.savefig('LOSSpct.png', dpi=300)"
   ]
  },
  {
   "cell_type": "markdown",
   "metadata": {
    "collapsed": true
   },
   "source": [
    "## Plot Population in percentage"
   ]
  },
  {
   "cell_type": "code",
   "execution_count": 24,
   "metadata": {
    "collapsed": false,
    "scrolled": true
   },
   "outputs": [
    {
     "data": {
      "image/png": "[encoded data removed]",
      "text/plain": [
       "<matplotlib.figure.Figure at 0x9863848748>"
      ]
     },
     "metadata": {},
     "output_type": "display_data"
    }
   ],
   "source": [
    "fig, ax1 = plt.subplots()\n",
    "plt.semilogx(CC[0],CC[2]/1000,'-ko',\n",
    "             GP[0],GP[2]/1000,'-k^',\n",
    "             PC[0],PC[2]/1000,'-ks',markerfacecolor='white')\n",
    "\n",
    "ax2 = ax1.twinx()\n",
    "ax2.semilogx(CC[0],CC[1]/TotD*100, alpha=0)\n",
    "\n",
    "ax1.yaxis.set_major_formatter(FormatStrFormatter('%.0f'))\n",
    "ax2.yaxis.set_major_formatter(FormatStrFormatter('%.0f'))\n",
    "\n",
    "ax1.set_xlabel('Return Period (yr)')\n",
    "\n",
    "ax1.set_ylabel('Population (thousand)')\n",
    "ax2.set_ylabel('Population (%)')\n",
    "\n",
    "ax1.set_xlim([60,1000])\n",
    "ax2.set_xlim([60,1000])\n",
    "\n",
    "ax1.set_ylim([0,TotP/1000*0.1])\n",
    "ax2.set_ylim([0,10])\n",
    "\n",
    "ax1.set_xticks([60,200,500,1000])\n",
    "ax1.set_xticklabels(['60','200','500','1000'])\n",
    "\n",
    "# ax1.set_yticks([0,0.5,1,1.5,2])\n",
    "# ax1.set_yticklabels(['0','0.5','1','1.5','2'])\n",
    "\n",
    "ax2.set_yticks([0,5,10,15,20])\n",
    "ax2.set_yticklabels(['0','5','10','15','20'])\n",
    "\n",
    "ax1.legend(['Corpus Christi, TX','Gulfport, MS','Panama, FL'], loc='upper left', frameon=False)\n",
    "\n",
    "plt.tight_layout()\n",
    "plt.savefig('POPpct.png', dpi=300)"
   ]
  },
  {
   "cell_type": "markdown",
   "metadata": {
    "collapsed": true
   },
   "source": [
    "## Plot Area in percentage"
   ]
  },
  {
   "cell_type": "code",
   "execution_count": 25,
   "metadata": {
    "collapsed": false,
    "scrolled": false
   },
   "outputs": [
    {
     "data": {
      "image/png": "[encoded data removed]",
      "text/plain": [
       "<matplotlib.figure.Figure at 0x9863eaee48>"
      ]
     },
     "metadata": {},
     "output_type": "display_data"
    }
   ],
   "source": [
    "fig, ax1 = plt.subplots()\n",
    "plt.semilogx(CC[0],CC[3]/1000000,'-ko',\n",
    "             GP[0],GP[3]/1000000,'-k^',\n",
    "             PC[0],PC[3]/1000000,'-ks',markerfacecolor='white')\n",
    "\n",
    "ax2 = ax1.twinx()\n",
    "ax2.semilogx(CC[0],CC[1]/TotA*100, alpha=0)\n",
    "\n",
    "ax1.yaxis.set_major_formatter(FormatStrFormatter('%.0f'))\n",
    "ax2.yaxis.set_major_formatter(FormatStrFormatter('%.0f'))\n",
    "\n",
    "ax1.set_xlabel('Return Period (yr)')\n",
    "\n",
    "ax1.set_ylabel('Area ($km^2$)')\n",
    "ax2.set_ylabel('Area (%)')\n",
    "\n",
    "ax1.set_xlim([60,1000])\n",
    "ax2.set_xlim([60,1000])\n",
    "\n",
    "ax1.set_ylim([0,TotA/1000000*0.04])\n",
    "ax2.set_ylim([0,4])\n",
    "\n",
    "ax1.set_xticks([60,200,500,1000])\n",
    "ax1.set_xticklabels(['60','200','500','1000'])\n",
    "\n",
    "# ax1.set_yticks([0,0.5,1,1.5,2])\n",
    "# ax1.set_yticklabels(['0','0.5','1','1.5','2'])\n",
    "\n",
    "ax2.set_yticks([0,1,2,3,4])\n",
    "ax2.set_yticklabels(['0','1','2','3','4'])\n",
    "\n",
    "ax1.legend(['Corpus Christi, TX','Gulfport, MS','Panama, FL'], loc='upper left', frameon=False)\n",
    "\n",
    "plt.tight_layout()\n",
    "plt.savefig('AREApct.png', dpi=300)"
   ]
  },
  {
   "cell_type": "code",
   "execution_count": null,
   "metadata": {
    "collapsed": true
   },
   "outputs": [],
   "source": [
    "\n",
    "\n"
   ]
  },
  {
   "cell_type": "markdown",
   "metadata": {},
   "source": [
    "# Below is for backup"
   ]
  },
  {
   "cell_type": "markdown",
   "metadata": {
    "collapsed": true
   },
   "source": [
    "## Plot parcel damage in percentage"
   ]
  },
  {
   "cell_type": "code",
   "execution_count": 26,
   "metadata": {
    "collapsed": false,
    "scrolled": true
   },
   "outputs": [
    {
     "data": {
      "text/plain": [
       "[<matplotlib.text.Text at 0x98646036d8>,\n",
       " <matplotlib.text.Text at 0x9863d39358>,\n",
       " <matplotlib.text.Text at 0x9863d69d30>,\n",
       " <matplotlib.text.Text at 0x98645f9eb8>]"
      ]
     },
     "execution_count": 26,
     "metadata": {},
     "output_type": "execute_result"
    },
    {
     "data": {
      "image/png": "[encoded data removed]",
      "text/plain": [
       "<matplotlib.figure.Figure at 0x98645b40f0>"
      ]
     },
     "metadata": {},
     "output_type": "display_data"
    }
   ],
   "source": [
    "fig, ax1 = plt.subplots()\n",
    "ax1.semilogx(CC[0],CC[1]/1000000000,'-ko',markerfacecolor='white')\n",
    "\n",
    "ax2 = ax1.twinx()\n",
    "ax2.semilogx(CC[0],CC[1]/ImpTotCC*100*2, alpha=0)\n",
    "\n",
    "ax1.set_ylabel('Loss (billion USD)')\n",
    "ax2.set_ylabel('Loss (%)')\n",
    "\n",
    "ax1.set_xlim([60,1000])\n",
    "ax2.set_xlim([60,1000])\n",
    "\n",
    "ax1.set_xlabel('Return Period (yr)')\n",
    "\n",
    "ax1.legend(['Corpus Christi, TX'], loc='upper left', frameon=False)\n",
    "\n",
    "ax1.set_xticks([60,200,500,1000])\n",
    "ax1.set_xticklabels(['60','200','500','1000'])\n",
    "\n",
    "# plt.savefig('LossCC.png', dpi=300)\n",
    "\n",
    "# ax1.set_ylabel('Loss (billion USD)')\n",
    "# legend(['Corpus Christi, TX','Gulfport, MS','Panama, FL'])"
   ]
  },
  {
   "cell_type": "code",
   "execution_count": 27,
   "metadata": {
    "collapsed": false,
    "scrolled": true
   },
   "outputs": [
    {
     "data": {
      "text/plain": [
       "[<matplotlib.text.Text at 0x9863ccbd30>,\n",
       " <matplotlib.text.Text at 0x9863dce518>,\n",
       " <matplotlib.text.Text at 0x98646afc50>,\n",
       " <matplotlib.text.Text at 0x98644dda58>]"
      ]
     },
     "execution_count": 27,
     "metadata": {},
     "output_type": "execute_result"
    },
    {
     "data": {
      "image/png": "[encoded data removed]",
      "text/plain": [
       "<matplotlib.figure.Figure at 0x98645a9eb8>"
      ]
     },
     "metadata": {},
     "output_type": "display_data"
    }
   ],
   "source": [
    "fig, ax1 = plt.subplots()\n",
    "ax1.semilogx(GP[0],GP[1]/1000000000,'-k^',markerfacecolor='white')\n",
    "\n",
    "ax2 = ax1.twinx()\n",
    "ax2.semilogx(GP[0],GP[1]/ImpTotGP*100, alpha=0.1)\n",
    "\n",
    "ax1.set_ylabel('Loss (billion USD)')\n",
    "ax2.set_ylabel('Loss (%)')\n",
    "\n",
    "ax1.set_xlim([60,1000])\n",
    "ax2.set_xlim([60,1000])\n",
    "\n",
    "ax1.set_xlabel('Return Period (yr)')\n",
    "\n",
    "ax1.legend(['Gulfport, MS'], loc='upper left', frameon=False)\n",
    "\n",
    "ax1.set_xticks([60,200,500,1000])\n",
    "ax1.set_xticklabels(['60','200','500','1000'])\n",
    "\n",
    "# plt.savefig('LossGP.png', dpi=300)"
   ]
  },
  {
   "cell_type": "code",
   "execution_count": 28,
   "metadata": {
    "collapsed": false,
    "scrolled": false
   },
   "outputs": [
    {
     "data": {
      "text/plain": [
       "[<matplotlib.text.Text at 0x9863dcedd8>,\n",
       " <matplotlib.text.Text at 0x9864744128>,\n",
       " <matplotlib.text.Text at 0x9864779e80>,\n",
       " <matplotlib.text.Text at 0x98647314a8>]"
      ]
     },
     "execution_count": 28,
     "metadata": {},
     "output_type": "execute_result"
    },
    {
     "data": {
      "image/png": "[encoded data removed]",
      "text/plain": [
       "<matplotlib.figure.Figure at 0x98646fb2b0>"
      ]
     },
     "metadata": {},
     "output_type": "display_data"
    }
   ],
   "source": [
    "fig, ax1 = plt.subplots()\n",
    "ax1.semilogx(PC[0],PC[1]/1000000000,'-ks',markerfacecolor='white')\n",
    "\n",
    "ax2 = ax1.twinx()\n",
    "ax2.semilogx(PC[0],PC[1]/ImpTotPC*100, alpha=0.1)\n",
    "\n",
    "ax1.set_ylabel('Loss (billion USD)')\n",
    "ax2.set_ylabel('Loss (%)')\n",
    "\n",
    "ax1.set_xlim([60,1000])\n",
    "ax2.set_xlim([60,1000])\n",
    "\n",
    "ax1.set_ylim([0,ImpTotPC/1000000000])\n",
    "ax2.set_ylim([0,100])\n",
    "\n",
    "ax1.set_xlabel('Return Period (yr)')\n",
    "\n",
    "ax1.legend(['Gulfport, MS'], loc='upper left', frameon=False)\n",
    "\n",
    "ax1.set_xticks([60,200,500,1000])\n",
    "ax1.set_xticklabels(['60','200','500','1000'])\n",
    "\n",
    "# plt.savefig('LossPC.png', dpi=300)"
   ]
  },
  {
   "cell_type": "code",
   "execution_count": null,
   "metadata": {
    "collapsed": true
   },
   "outputs": [],
   "source": []
  }
 ],
 "metadata": {
  "kernelspec": {
   "display_name": "Python 3",
   "language": "python",
   "name": "python3"
  },
  "language_info": {
   "codemirror_mode": {
    "name": "ipython",
    "version": 3
   },
   "file_extension": ".py",
   "mimetype": "text/x-python",
   "name": "python",
   "nbconvert_exporter": "python",
   "pygments_lexer": "ipython3",
   "version": "3.6.0"
  }
 },
 "nbformat": 4,
 "nbformat_minor": 2
}
