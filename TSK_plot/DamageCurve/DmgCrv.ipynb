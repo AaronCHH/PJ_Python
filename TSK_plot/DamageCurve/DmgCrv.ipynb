{
 "cells": [
  {
   "cell_type": "markdown",
   "metadata": {},
   "source": [
    "# Readdata"
   ]
  },
  {
   "cell_type": "code",
   "execution_count": 7,
   "metadata": {
    "collapsed": true
   },
   "outputs": [],
   "source": [
    "import sys, os\n",
    "import numpy as np\n",
    "import pandas as pd\n",
    "import matplotlib.pyplot as plt"
   ]
  },
  {
   "cell_type": "code",
   "execution_count": 8,
   "metadata": {
    "collapsed": false
   },
   "outputs": [],
   "source": [
    "data = pd.read_csv(\"DmgCrvTab.csv\")"
   ]
  },
  {
   "cell_type": "code",
   "execution_count": 9,
   "metadata": {
    "collapsed": false,
    "scrolled": true
   },
   "outputs": [
    {
     "data": {
      "text/html": [
       "<div>\n",
       "<table border=\"1\" class=\"dataframe\">\n",
       "  <thead>\n",
       "    <tr style=\"text-align: right;\">\n",
       "      <th></th>\n",
       "      <th>Depth</th>\n",
       "      <th>RES1</th>\n",
       "      <th>RES2</th>\n",
       "      <th>RES3A</th>\n",
       "      <th>RES3B</th>\n",
       "      <th>RES3C</th>\n",
       "      <th>RES3D</th>\n",
       "      <th>RES3E</th>\n",
       "      <th>RES3F</th>\n",
       "      <th>RES4</th>\n",
       "      <th>...</th>\n",
       "      <th>IND3</th>\n",
       "      <th>IND4</th>\n",
       "      <th>IND5</th>\n",
       "      <th>IND6</th>\n",
       "      <th>AGR1</th>\n",
       "      <th>REL1</th>\n",
       "      <th>GOV1</th>\n",
       "      <th>GOV2</th>\n",
       "      <th>EDU1</th>\n",
       "      <th>EDU2</th>\n",
       "    </tr>\n",
       "  </thead>\n",
       "  <tbody>\n",
       "    <tr>\n",
       "      <th>0</th>\n",
       "      <td>0</td>\n",
       "      <td>13.0</td>\n",
       "      <td>9.5</td>\n",
       "      <td>13.5</td>\n",
       "      <td>13.5</td>\n",
       "      <td>13.5</td>\n",
       "      <td>13.5</td>\n",
       "      <td>13.5</td>\n",
       "      <td>13.5</td>\n",
       "      <td>0</td>\n",
       "      <td>...</td>\n",
       "      <td>0</td>\n",
       "      <td>0</td>\n",
       "      <td>0</td>\n",
       "      <td>0</td>\n",
       "      <td>0</td>\n",
       "      <td>0</td>\n",
       "      <td>0</td>\n",
       "      <td>0</td>\n",
       "      <td>0</td>\n",
       "      <td>0</td>\n",
       "    </tr>\n",
       "    <tr>\n",
       "      <th>1</th>\n",
       "      <td>1</td>\n",
       "      <td>16.0</td>\n",
       "      <td>44.5</td>\n",
       "      <td>15.5</td>\n",
       "      <td>15.5</td>\n",
       "      <td>15.5</td>\n",
       "      <td>15.5</td>\n",
       "      <td>15.5</td>\n",
       "      <td>15.5</td>\n",
       "      <td>3</td>\n",
       "      <td>...</td>\n",
       "      <td>13</td>\n",
       "      <td>10</td>\n",
       "      <td>13</td>\n",
       "      <td>22</td>\n",
       "      <td>6</td>\n",
       "      <td>10</td>\n",
       "      <td>5</td>\n",
       "      <td>7</td>\n",
       "      <td>5</td>\n",
       "      <td>5</td>\n",
       "    </tr>\n",
       "    <tr>\n",
       "      <th>2</th>\n",
       "      <td>2</td>\n",
       "      <td>19.5</td>\n",
       "      <td>63.5</td>\n",
       "      <td>22.5</td>\n",
       "      <td>22.5</td>\n",
       "      <td>22.5</td>\n",
       "      <td>22.5</td>\n",
       "      <td>22.5</td>\n",
       "      <td>22.5</td>\n",
       "      <td>5</td>\n",
       "      <td>...</td>\n",
       "      <td>14</td>\n",
       "      <td>14</td>\n",
       "      <td>14</td>\n",
       "      <td>31</td>\n",
       "      <td>11</td>\n",
       "      <td>11</td>\n",
       "      <td>8</td>\n",
       "      <td>10</td>\n",
       "      <td>7</td>\n",
       "      <td>7</td>\n",
       "    </tr>\n",
       "    <tr>\n",
       "      <th>3</th>\n",
       "      <td>3</td>\n",
       "      <td>27.0</td>\n",
       "      <td>73.5</td>\n",
       "      <td>25.5</td>\n",
       "      <td>25.5</td>\n",
       "      <td>25.5</td>\n",
       "      <td>25.5</td>\n",
       "      <td>25.5</td>\n",
       "      <td>25.5</td>\n",
       "      <td>6</td>\n",
       "      <td>...</td>\n",
       "      <td>19</td>\n",
       "      <td>18</td>\n",
       "      <td>19</td>\n",
       "      <td>37</td>\n",
       "      <td>15</td>\n",
       "      <td>11</td>\n",
       "      <td>13</td>\n",
       "      <td>11</td>\n",
       "      <td>9</td>\n",
       "      <td>9</td>\n",
       "    </tr>\n",
       "    <tr>\n",
       "      <th>4</th>\n",
       "      <td>4</td>\n",
       "      <td>29.0</td>\n",
       "      <td>78.5</td>\n",
       "      <td>28.5</td>\n",
       "      <td>28.5</td>\n",
       "      <td>28.5</td>\n",
       "      <td>28.5</td>\n",
       "      <td>28.5</td>\n",
       "      <td>28.5</td>\n",
       "      <td>7</td>\n",
       "      <td>...</td>\n",
       "      <td>22</td>\n",
       "      <td>22</td>\n",
       "      <td>22</td>\n",
       "      <td>43</td>\n",
       "      <td>19</td>\n",
       "      <td>12</td>\n",
       "      <td>14</td>\n",
       "      <td>12</td>\n",
       "      <td>9</td>\n",
       "      <td>9</td>\n",
       "    </tr>\n",
       "  </tbody>\n",
       "</table>\n",
       "<p>5 rows × 34 columns</p>\n",
       "</div>"
      ],
      "text/plain": [
       "   Depth  RES1  RES2  RES3A  RES3B  RES3C  RES3D  RES3E  RES3F  RES4  ...   \\\n",
       "0      0  13.0   9.5   13.5   13.5   13.5   13.5   13.5   13.5     0  ...    \n",
       "1      1  16.0  44.5   15.5   15.5   15.5   15.5   15.5   15.5     3  ...    \n",
       "2      2  19.5  63.5   22.5   22.5   22.5   22.5   22.5   22.5     5  ...    \n",
       "3      3  27.0  73.5   25.5   25.5   25.5   25.5   25.5   25.5     6  ...    \n",
       "4      4  29.0  78.5   28.5   28.5   28.5   28.5   28.5   28.5     7  ...    \n",
       "\n",
       "   IND3  IND4  IND5  IND6  AGR1  REL1  GOV1  GOV2  EDU1  EDU2  \n",
       "0     0     0     0     0     0     0     0     0     0     0  \n",
       "1    13    10    13    22     6    10     5     7     5     5  \n",
       "2    14    14    14    31    11    11     8    10     7     7  \n",
       "3    19    18    19    37    15    11    13    11     9     9  \n",
       "4    22    22    22    43    19    12    14    12     9     9  \n",
       "\n",
       "[5 rows x 34 columns]"
      ]
     },
     "execution_count": 9,
     "metadata": {},
     "output_type": "execute_result"
    }
   ],
   "source": [
    "data.head()"
   ]
  },
  {
   "cell_type": "code",
   "execution_count": 18,
   "metadata": {
    "collapsed": false,
    "scrolled": true
   },
   "outputs": [
    {
     "data": {
      "text/plain": [
       "Index(['Depth', 'RES1', 'RES2', 'RES3A', 'RES3B', 'RES3C', 'RES3D', 'RES3E',\n",
       "       'RES3F', 'RES4', 'RES5', 'RES6', 'COM1', 'COM2', 'COM3', 'COM4', 'COM5',\n",
       "       'COM6', 'COM7', 'COM8', 'COM9', 'COM10', 'IND1', 'IND2', 'IND3', 'IND4',\n",
       "       'IND5', 'IND6', 'AGR1', 'REL1', 'GOV1', 'GOV2', 'EDU1', 'EDU2'],\n",
       "      dtype='object')"
      ]
     },
     "execution_count": 18,
     "metadata": {},
     "output_type": "execute_result"
    }
   ],
   "source": [
    "data.columns"
   ]
  },
  {
   "cell_type": "code",
   "execution_count": 49,
   "metadata": {
    "collapsed": false
   },
   "outputs": [],
   "source": [
    "x = data['Depth']\n",
    "RES2 = data['RES2']\n",
    "COM1 = data['COM1']\n",
    "IND1 = data['IND1']\n",
    "AGR1 = data['AGR1']\n",
    "REL1 = data['REL1']\n",
    "GOV1 = data['GOV1']"
   ]
  },
  {
   "cell_type": "code",
   "execution_count": 73,
   "metadata": {
    "collapsed": false,
    "scrolled": false
   },
   "outputs": [
    {
     "data": {
      "image/png": "[encoded data removed]",
      "text/plain": [
       "<matplotlib.figure.Figure at 0x90741d3160>"
      ]
     },
     "metadata": {},
     "output_type": "display_data"
    }
   ],
   "source": [
    "%matplotlib inline\n",
    "\n",
    "# plot\n",
    "plt.plot(x,RES2, color='k', marker='o', markerfacecolor='white', markevery = 2)\n",
    "plt.plot(x,COM1, color='k', marker='^', markerfacecolor='white', markevery = 2)\n",
    "# plt.plot(x,IND1, color='k', marker='^')\n",
    "# plt.plot(x,AGR1, color='k', marker='<')\n",
    "# plt.plot(x,REL1, color='k', marker='>')\n",
    "plt.plot(x,GOV1, color='k', marker='s', markerfacecolor='white', markevery = 2)\n",
    "\n",
    "# label\n",
    "plt.xlabel('Flood Depth(ft)')\n",
    "plt.ylabel('Percent Damage(%)')\n",
    "\n",
    "# legend\n",
    "plt.legend(loc=0, fontsize=12)\n",
    "\n",
    "# font size\n",
    "plt.rcParams.update({'font.size': 12})\n",
    "# plt.rcParams.update({'axes.linewidth': 1})\n",
    "\n",
    "# output plot to image\n",
    "plt.savefig('DmgCrv.png', dpi = 300)"
   ]
  },
  {
   "cell_type": "code",
   "execution_count": null,
   "metadata": {
    "collapsed": true
   },
   "outputs": [],
   "source": []
  }
 ],
 "metadata": {
  "anaconda-cloud": {},
  "kernelspec": {
   "display_name": "Python 3",
   "language": "python",
   "name": "python3"
  },
  "language_info": {
   "codemirror_mode": {
    "name": "ipython",
    "version": 3
   },
   "file_extension": ".py",
   "mimetype": "text/x-python",
   "name": "python",
   "nbconvert_exporter": "python",
   "pygments_lexer": "ipython3",
   "version": "3.6.0"
  }
 },
 "nbformat": 4,
 "nbformat_minor": 1
}
