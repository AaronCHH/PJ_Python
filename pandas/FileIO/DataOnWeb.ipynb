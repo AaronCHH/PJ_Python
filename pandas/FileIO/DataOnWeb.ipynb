{
 "cells": [
  {
   "cell_type": "markdown",
   "metadata": {},
   "source": [
    "# Accessing data on the web and in the cloud"
   ]
  },
  {
   "cell_type": "code",
   "execution_count": 3,
   "metadata": {
    "collapsed": true
   },
   "outputs": [],
   "source": [
    "import os, sys, pandas as pd, numpy as np"
   ]
  },
  {
   "cell_type": "markdown",
   "metadata": {},
   "source": [
    "## read csv directly from Yahoo! Finance from a URL"
   ]
  },
  {
   "cell_type": "code",
   "execution_count": 8,
   "metadata": {
    "collapsed": false
   },
   "outputs": [
    {
     "data": {
      "text/html": [
       "<div>\n",
       "<table border=\"1\" class=\"dataframe\">\n",
       "  <thead>\n",
       "    <tr style=\"text-align: right;\">\n",
       "      <th></th>\n",
       "      <th>Date</th>\n",
       "      <th>Open</th>\n",
       "      <th>High</th>\n",
       "      <th>Low</th>\n",
       "      <th>Close</th>\n",
       "      <th>Volume</th>\n",
       "      <th>Adj Close</th>\n",
       "    </tr>\n",
       "  </thead>\n",
       "  <tbody>\n",
       "    <tr>\n",
       "      <th>0</th>\n",
       "      <td>2016-10-26</td>\n",
       "      <td>60.810001</td>\n",
       "      <td>61.200001</td>\n",
       "      <td>60.470001</td>\n",
       "      <td>60.630001</td>\n",
       "      <td>29825100</td>\n",
       "      <td>60.630001</td>\n",
       "    </tr>\n",
       "    <tr>\n",
       "      <th>1</th>\n",
       "      <td>2016-10-25</td>\n",
       "      <td>60.849998</td>\n",
       "      <td>61.369999</td>\n",
       "      <td>60.799999</td>\n",
       "      <td>60.990002</td>\n",
       "      <td>35137200</td>\n",
       "      <td>60.990002</td>\n",
       "    </tr>\n",
       "    <tr>\n",
       "      <th>2</th>\n",
       "      <td>2016-10-24</td>\n",
       "      <td>59.939999</td>\n",
       "      <td>61.000000</td>\n",
       "      <td>59.930000</td>\n",
       "      <td>61.000000</td>\n",
       "      <td>54067000</td>\n",
       "      <td>61.000000</td>\n",
       "    </tr>\n",
       "    <tr>\n",
       "      <th>3</th>\n",
       "      <td>2016-10-21</td>\n",
       "      <td>60.279999</td>\n",
       "      <td>60.450001</td>\n",
       "      <td>59.490002</td>\n",
       "      <td>59.660000</td>\n",
       "      <td>80032200</td>\n",
       "      <td>59.660000</td>\n",
       "    </tr>\n",
       "    <tr>\n",
       "      <th>4</th>\n",
       "      <td>2016-10-20</td>\n",
       "      <td>57.500000</td>\n",
       "      <td>57.520000</td>\n",
       "      <td>56.660000</td>\n",
       "      <td>57.250000</td>\n",
       "      <td>49455600</td>\n",
       "      <td>57.250000</td>\n",
       "    </tr>\n",
       "  </tbody>\n",
       "</table>\n",
       "</div>"
      ],
      "text/plain": [
       "         Date       Open       High        Low      Close    Volume  Adj Close\n",
       "0  2016-10-26  60.810001  61.200001  60.470001  60.630001  29825100  60.630001\n",
       "1  2016-10-25  60.849998  61.369999  60.799999  60.990002  35137200  60.990002\n",
       "2  2016-10-24  59.939999  61.000000  59.930000  61.000000  54067000  61.000000\n",
       "3  2016-10-21  60.279999  60.450001  59.490002  59.660000  80032200  59.660000\n",
       "4  2016-10-20  57.500000  57.520000  56.660000  57.250000  49455600  57.250000"
      ]
     },
     "execution_count": 8,
     "metadata": {},
     "output_type": "execute_result"
    }
   ],
   "source": [
    "# read csv directly from Yahoo! Finance from a URL\n",
    "df = pd.read_csv(\"http://chart.finance.yahoo.com/table.csv?s=MSFT&\" + \n",
    "                 \"a=8&b=27&c=2016&\" + \n",
    "                 \"d=9&e=27&f=2016&\" + \n",
    "                 \"g=d&ignore=.csv\")\n",
    "df[:5]"
   ]
  },
  {
   "cell_type": "code",
   "execution_count": null,
   "metadata": {
    "collapsed": true
   },
   "outputs": [],
   "source": []
  },
  {
   "cell_type": "code",
   "execution_count": null,
   "metadata": {
    "collapsed": true
   },
   "outputs": [],
   "source": []
  }
 ],
 "metadata": {
  "anaconda-cloud": {},
  "kernelspec": {
   "display_name": "Python [default]",
   "language": "python",
   "name": "python3"
  },
  "language_info": {
   "codemirror_mode": {
    "name": "ipython",
    "version": 3
   },
   "file_extension": ".py",
   "mimetype": "text/x-python",
   "name": "python",
   "nbconvert_exporter": "python",
   "pygments_lexer": "ipython3",
   "version": "3.5.2"
  }
 },
 "nbformat": 4,
 "nbformat_minor": 1
}
