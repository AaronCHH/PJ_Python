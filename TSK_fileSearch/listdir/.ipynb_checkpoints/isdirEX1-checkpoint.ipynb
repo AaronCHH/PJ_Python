{
 "cells": [
  {
   "cell_type": "code",
   "execution_count": 1,
   "metadata": {
    "collapsed": false
   },
   "outputs": [
    {
     "name": "stdout",
     "output_type": "stream",
     "text": [
      "D:\\GITHUB\\AaronCHH\\PythonProject\\fileSearch\\isdir\n"
     ]
    }
   ],
   "source": [
    "import os\n",
    "os.chdir('./')\n",
    "print(os.getcwd())"
   ]
  },
  {
   "cell_type": "code",
   "execution_count": 2,
   "metadata": {
    "collapsed": false
   },
   "outputs": [
    {
     "name": "stdout",
     "output_type": "stream",
     "text": [
      "資料夾: .ipynb_checkpoints\n",
      "檔案: 10-1-1-找出檔案與資料夾.py\n",
      "檔案: isdirEX1.ipynb\n",
      "資料夾: sampletree\n"
     ]
    }
   ],
   "source": [
    "fds = os.listdir('./')\n",
    "for fd in fds:\n",
    "    if os.path.isdir(fd):\n",
    "        print('資料夾:', fd)\n",
    "    else:\n",
    "        print('檔案:', fd)"
   ]
  },
  {
   "cell_type": "code",
   "execution_count": 3,
   "metadata": {
    "collapsed": false
   },
   "outputs": [
    {
     "name": "stdout",
     "output_type": "stream",
     "text": [
      "檔案: a\n",
      "檔案: b\n",
      "檔案: c\n",
      "檔案: f1\n",
      "檔案: f2\n",
      "檔案: f3\n"
     ]
    }
   ],
   "source": [
    "fds = os.listdir('./sampletree/')\n",
    "for fd in fds:\n",
    "    if os.path.isdir(fd):\n",
    "        print('資料夾:', fd)\n",
    "    else:\n",
    "        print('檔案:', fd)"
   ]
  },
  {
   "cell_type": "code",
   "execution_count": null,
   "metadata": {
    "collapsed": true
   },
   "outputs": [],
   "source": []
  }
 ],
 "metadata": {
  "anaconda-cloud": {},
  "kernelspec": {
   "display_name": "Python [default]",
   "language": "python",
   "name": "python3"
  },
  "language_info": {
   "codemirror_mode": {
    "name": "ipython",
    "version": 3
   },
   "file_extension": ".py",
   "mimetype": "text/x-python",
   "name": "python",
   "nbconvert_exporter": "python",
   "pygments_lexer": "ipython3",
   "version": "3.5.2"
  }
 },
 "nbformat": 4,
 "nbformat_minor": 1
}
