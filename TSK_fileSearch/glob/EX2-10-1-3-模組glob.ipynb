{
 "cells": [
  {
   "cell_type": "code",
   "execution_count": 1,
   "metadata": {
    "collapsed": false
   },
   "outputs": [
    {
     "name": "stdout",
     "output_type": "stream",
     "text": [
      "10-1-3-模組glob.py\n",
      "8-1.py\n",
      "8-2.py\n",
      "8-3.py\n",
      "8-4.py\n",
      "8-5.py\n",
      "8-6.py\n",
      "8-7.py\n",
      "8-8.py\n"
     ]
    }
   ],
   "source": [
    "import glob, os\n",
    "path = \"./\"\n",
    "os.chdir(path)\n",
    "for file in glob.glob(\"*.py\"):\n",
    "    print(file)"
   ]
  },
  {
   "cell_type": "code",
   "execution_count": null,
   "metadata": {
    "collapsed": true
   },
   "outputs": [],
   "source": []
  }
 ],
 "metadata": {
  "anaconda-cloud": {},
  "kernelspec": {
   "display_name": "Python [default]",
   "language": "python",
   "name": "python3"
  },
  "language_info": {
   "codemirror_mode": {
    "name": "ipython",
    "version": 3
   },
   "file_extension": ".py",
   "mimetype": "text/x-python",
   "name": "python",
   "nbconvert_exporter": "python",
   "pygments_lexer": "ipython3",
   "version": "3.5.2"
  }
 },
 "nbformat": 4,
 "nbformat_minor": 1
}
