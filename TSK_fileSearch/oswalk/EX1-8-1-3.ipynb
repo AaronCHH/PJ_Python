{
 "cells": [
  {
   "cell_type": "code",
   "execution_count": 1,
   "metadata": {
    "collapsed": false
   },
   "outputs": [
    {
     "name": "stdout",
     "output_type": "stream",
     "text": [
      "sampletree\n",
      "['a', 'b', 'c']\n",
      "['f1', 'f2', 'f3']\n",
      "\n",
      "sampletree\\a\n",
      "[]\n",
      "['f4', 'f5', 'f6']\n",
      "\n",
      "sampletree\\b\n",
      "[]\n",
      "[]\n",
      "\n",
      "sampletree\\c\n",
      "[]\n",
      "[]\n",
      "\n"
     ]
    }
   ],
   "source": [
    "import os\n",
    "sample_tree = os.walk(\"sampletree\")\n",
    "for dirname, subdir, files in sample_tree:\n",
    "    print(dirname)\n",
    "    print(subdir)\n",
    "    print(files)\n",
    "    print()"
   ]
  },
  {
   "cell_type": "code",
   "execution_count": 2,
   "metadata": {
    "collapsed": false
   },
   "outputs": [
    {
     "name": "stdout",
     "output_type": "stream",
     "text": [
      "D:\\GITHUB\\AaronCHH\\PythonProject\\fileSearch\\oswalk\\f1\n",
      "D:\\GITHUB\\AaronCHH\\PythonProject\\fileSearch\\oswalk\\f2\n",
      "D:\\GITHUB\\AaronCHH\\PythonProject\\fileSearch\\oswalk\\f3\n",
      "D:\\GITHUB\\AaronCHH\\PythonProject\\fileSearch\\oswalk\\f4\n",
      "D:\\GITHUB\\AaronCHH\\PythonProject\\fileSearch\\oswalk\\f5\n",
      "D:\\GITHUB\\AaronCHH\\PythonProject\\fileSearch\\oswalk\\f6\n"
     ]
    }
   ],
   "source": [
    "import os\n",
    "sample_tree = os.walk(\"sampletree\")\n",
    "for dirname, subdir, files in sample_tree:\n",
    "    for filename in files:\n",
    "        print(os.path.abspath(filename))"
   ]
  },
  {
   "cell_type": "code",
   "execution_count": null,
   "metadata": {
    "collapsed": true
   },
   "outputs": [],
   "source": []
  }
 ],
 "metadata": {
  "anaconda-cloud": {},
  "kernelspec": {
   "display_name": "Python [default]",
   "language": "python",
   "name": "python3"
  },
  "language_info": {
   "codemirror_mode": {
    "name": "ipython",
    "version": 3
   },
   "file_extension": ".py",
   "mimetype": "text/x-python",
   "name": "python",
   "nbconvert_exporter": "python",
   "pygments_lexer": "ipython3",
   "version": "3.5.2"
  }
 },
 "nbformat": 4,
 "nbformat_minor": 0
}
