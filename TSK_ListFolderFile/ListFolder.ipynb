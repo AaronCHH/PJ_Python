{
 "cells": [
  {
   "cell_type": "markdown",
   "metadata": {},
   "source": [
    "# List Folder"
   ]
  },
  {
   "cell_type": "markdown",
   "metadata": {},
   "source": [
    "## Use isdir/isfile (weird result)"
   ]
  },
  {
   "cell_type": "code",
   "execution_count": 15,
   "metadata": {
    "collapsed": false,
    "scrolled": true
   },
   "outputs": [
    {
     "name": "stdout",
     "output_type": "stream",
     "text": [
      "File: Ch1\n",
      "File: Ch2\n",
      "File: Ch3\n",
      "File: file1.txt\n",
      "File: file2.txt\n",
      "File: file3.txt\n"
     ]
    }
   ],
   "source": [
    "import os\n",
    " \n",
    "fds = os.listdir('./DATA') # list all the items in the target path\n",
    " \n",
    "for fd in fds:\n",
    "    if os.path.isdir(fd):\n",
    "        print('Folder:', fd)\n",
    "    else:        \n",
    "        print('File:', fd)"
   ]
  },
  {
   "cell_type": "markdown",
   "metadata": {},
   "source": [
    "## Use list generator"
   ]
  },
  {
   "cell_type": "code",
   "execution_count": 9,
   "metadata": {
    "collapsed": false
   },
   "outputs": [
    {
     "name": "stdout",
     "output_type": "stream",
     "text": [
      "['file1.txt', 'file2.txt', 'file3.txt']\n",
      "['Ch1', 'Ch2', 'Ch3']\n"
     ]
    }
   ],
   "source": [
    "import os\n",
    "path = \"./DATA\"\n",
    "\n",
    "dirs = [d for d in os.listdir(path) if os.path.isdir(os.path.join(path, d))]\n",
    "files = [f for f in os.listdir(path) if os.path.isfile(os.path.join(path, f))]\n",
    "\n",
    "print(dirs)\n",
    "print(files)"
   ]
  },
  {
   "cell_type": "markdown",
   "metadata": {},
   "source": [
    "## User recursive to find subfolders"
   ]
  },
  {
   "cell_type": "code",
   "execution_count": 19,
   "metadata": {
    "collapsed": false,
    "scrolled": true
   },
   "outputs": [
    {
     "name": "stdout",
     "output_type": "stream",
     "text": [
      "Folder: ./DATA\\Ch1\n",
      "Folder: ./DATA\\Ch1\\Sec1\n",
      "Folder: ./DATA\\Ch1\\Sec2\n",
      "Folder: ./DATA\\Ch2\n",
      "Folder: ./DATA\\Ch3\n",
      "File: ./DATA\\file1.txt\n",
      "File: ./DATA\\file2.txt\n",
      "File: ./DATA\\file3.txt\n"
     ]
    }
   ],
   "source": [
    "# %load 10-1-4-遞迴列出資料夾與檔案.py\n",
    "import os\n",
    "path = './DATA'\n",
    "\n",
    "def find_dir(dir):\n",
    "    fds = os.listdir(dir)\n",
    "    for fd in fds:\n",
    "        full_path = os.path.join(dir, fd)\n",
    "        if os.path.isdir(full_path):\n",
    "            print('Folder:',full_path)\n",
    "            find_dir(full_path)\n",
    "        else:\n",
    "            print('File:', full_path)\n",
    "            \n",
    "find_dir(path)"
   ]
  },
  {
   "cell_type": "markdown",
   "metadata": {},
   "source": [
    "## List File"
   ]
  },
  {
   "cell_type": "markdown",
   "metadata": {},
   "source": [
    "## Use listdir (+ os.path.XXX)"
   ]
  },
  {
   "cell_type": "code",
   "execution_count": 44,
   "metadata": {
    "collapsed": false
   },
   "outputs": [
    {
     "name": "stdout",
     "output_type": "stream",
     "text": [
      "['file1.csv', 'file1.txt', 'file2.csv', 'file2.txt', 'file3.csv', 'file3.txt']\n"
     ]
    }
   ],
   "source": [
    "import os\n",
    "path = \"./DATA\"\n",
    "\n",
    "files = [f for f in os.listdir(path) if os.path.isfile(os.path.join(path, f))]\n",
    "\n",
    "print(files)"
   ]
  },
  {
   "cell_type": "markdown",
   "metadata": {},
   "source": [
    "* **Find specific type file**"
   ]
  },
  {
   "cell_type": "code",
   "execution_count": 23,
   "metadata": {
    "collapsed": false
   },
   "outputs": [
    {
     "name": "stdout",
     "output_type": "stream",
     "text": [
      "['file1.csv', 'file1.txt', 'file2.csv', 'file2.txt', 'file3.csv', 'file3.txt']\n",
      "['file1.txt', 'file2.txt', 'file3.txt']\n"
     ]
    }
   ],
   "source": [
    "import os\n",
    "path = \"./DATA\"\n",
    "\n",
    "files = [f for f in os.listdir(path) if os.path.isfile(os.path.join(path, f))]\n",
    "spfiles = [f for f in files if f.endswith('txt')]\n",
    "\n",
    "print(files)\n",
    "print(spfiles)\n"
   ]
  },
  {
   "cell_type": "markdown",
   "metadata": {},
   "source": [
    "## Use os.walk (root, dirs, files)"
   ]
  },
  {
   "cell_type": "code",
   "execution_count": 43,
   "metadata": {
    "collapsed": false
   },
   "outputs": [
    {
     "name": "stdout",
     "output_type": "stream",
     "text": [
      "./DATA\\file1.txt\n",
      "./DATA\\file2.txt\n",
      "./DATA\\file3.txt\n",
      "file1.txt\n",
      "file2.txt\n",
      "file3.txt\n"
     ]
    }
   ],
   "source": [
    "import os\n",
    "path = \"./\"\n",
    "\n",
    "for root, dirs, files in os.walk(path):\n",
    "    for file in files:\n",
    "        if file.endswith(\".txt\"):\n",
    "            print(os.path.join(root, file))\n",
    "            \n",
    "for root, dirs, files in os.walk(path):\n",
    "    for file in files:\n",
    "        if file.endswith(\".txt\"):            \n",
    "            print(file)                        "
   ]
  },
  {
   "cell_type": "markdown",
   "metadata": {},
   "source": [
    "* **Find same-genre file**"
   ]
  },
  {
   "cell_type": "code",
   "execution_count": 41,
   "metadata": {
    "collapsed": false,
    "scrolled": true
   },
   "outputs": [
    {
     "name": "stdout",
     "output_type": "stream",
     "text": [
      "./DATA\\file1.txt\n",
      "./DATA\\file2.txt\n",
      "./DATA\\file3.txt\n",
      "file1.txt\n",
      "file2.txt\n",
      "file3.txt\n"
     ]
    }
   ],
   "source": [
    "import fnmatch, os\n",
    "path = \"./DATA\"\n",
    "exts = ['*.jpg', '*.jpeg', '*.png', '*.tif', '*.txt']\n",
    "matches = []\n",
    "\n",
    "for root, dirs, files in os.walk(path):\n",
    "    for ext in exts:\n",
    "        for file in fnmatch.filter(files, ext):\n",
    "            matches.append(os.path.join(root, file))\n",
    "            \n",
    "for image in matches:\n",
    "    print(image)\n",
    "    \n",
    "for image in matches:\n",
    "    print(os.path.basename(image))    "
   ]
  },
  {
   "cell_type": "markdown",
   "metadata": {},
   "source": [
    "## Use glob.glob"
   ]
  },
  {
   "cell_type": "code",
   "execution_count": 39,
   "metadata": {
    "collapsed": false
   },
   "outputs": [
    {
     "name": "stdout",
     "output_type": "stream",
     "text": [
      "Fullpath:./DATA\\file1.txt\n",
      "Fullpath:./DATA\\file2.txt\n",
      "Fullpath:./DATA\\file3.txt\n",
      "Basename:file1.txt\n",
      "Basename:file2.txt\n",
      "Basename:file3.txt\n"
     ]
    }
   ],
   "source": [
    "import os\n",
    "import glob\n",
    "\n",
    "python_files = glob.glob('./DATA/*.txt')\n",
    "\n",
    "for file_name in python_files:\n",
    "    print('Fullpath:' + file_name)    \n",
    "\n",
    "for file_name in python_files:\n",
    "    \n",
    "    print('Basename:' + os.path.basename(file_name))\n"
   ]
  },
  {
   "cell_type": "code",
   "execution_count": null,
   "metadata": {
    "collapsed": true
   },
   "outputs": [],
   "source": []
  }
 ],
 "metadata": {
  "anaconda-cloud": {},
  "kernelspec": {
   "display_name": "Python [default]",
   "language": "python",
   "name": "python3"
  },
  "language_info": {
   "codemirror_mode": {
    "name": "ipython",
    "version": 3
   },
   "file_extension": ".py",
   "mimetype": "text/x-python",
   "name": "python",
   "nbconvert_exporter": "python",
   "pygments_lexer": "ipython3",
   "version": "3.5.2"
  }
 },
 "nbformat": 4,
 "nbformat_minor": 1
}
