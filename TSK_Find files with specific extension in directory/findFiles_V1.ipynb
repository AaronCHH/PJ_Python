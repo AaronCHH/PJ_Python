{
 "cells": [
  {
   "cell_type": "markdown",
   "metadata": {},
   "source": [
    "## use glob"
   ]
  },
  {
   "cell_type": "code",
   "execution_count": 10,
   "metadata": {
    "collapsed": false
   },
   "outputs": [
    {
     "name": "stdout",
     "output_type": "stream",
     "text": [
      "a.txt\n",
      "b.txt\n"
     ]
    }
   ],
   "source": [
    "# use glob:\n",
    "import glob, os\n",
    "os.chdir(\"./\")\n",
    "for file in glob.glob(\"*.txt\"):\n",
    "    print(file)\n",
    "    "
   ]
  },
  {
   "cell_type": "markdown",
   "metadata": {},
   "source": [
    "## use os.listdir"
   ]
  },
  {
   "cell_type": "code",
   "execution_count": 11,
   "metadata": {
    "collapsed": false
   },
   "outputs": [
    {
     "name": "stdout",
     "output_type": "stream",
     "text": [
      "a.txt\n",
      "b.txt\n"
     ]
    }
   ],
   "source": [
    "# use os.listdir:\n",
    "import os\n",
    "for file in os.listdir(\"./\"):\n",
    "    if file.endswith(\".txt\"):\n",
    "        print(file)\n",
    "   "
   ]
  },
  {
   "cell_type": "code",
   "execution_count": 24,
   "metadata": {
    "collapsed": false
   },
   "outputs": [
    {
     "data": {
      "text/plain": [
       "['a.txt', 'b.txt']"
      ]
     },
     "execution_count": 24,
     "metadata": {},
     "output_type": "execute_result"
    }
   ],
   "source": [
    "# use this!\n",
    "files = [f for f in os.listdir(\"./\") if f.endswith('.txt')]\n",
    "files"
   ]
  },
  {
   "cell_type": "markdown",
   "metadata": {},
   "source": [
    "## use os.walk"
   ]
  },
  {
   "cell_type": "code",
   "execution_count": 9,
   "metadata": {
    "collapsed": false
   },
   "outputs": [
    {
     "name": "stdout",
     "output_type": "stream",
     "text": [
      "a.txt\n",
      "b.txt\n",
      "c.txt\n"
     ]
    }
   ],
   "source": [
    "# If you want to traverse directory, use os.walk:\n",
    "import os\n",
    "for root, dirs, files in os.walk(\"./\"):\n",
    "    for file in files:\n",
    "        if file.endswith(\".txt\"):\n",
    "#              print(os.path.join(root, file))\n",
    "            print(file)"
   ]
  },
  {
   "cell_type": "code",
   "execution_count": 22,
   "metadata": {
    "collapsed": false
   },
   "outputs": [
    {
     "name": "stdout",
     "output_type": "stream",
     "text": [
      "./.ipynb_checkpoints\\findFiles_Dev-checkpoint.ipynb\n",
      "./c\\c.txt\n",
      "./a.txt\n",
      "./b.txt\n",
      "./findFiles_Dev.ipynb\n",
      "./.ipynb_checkpoints\n",
      "./c\n"
     ]
    }
   ],
   "source": [
    "import os\n",
    "for root, dirs, files in os.walk(\"./\", topdown=False):\n",
    "    for name in files:\n",
    "        print(os.path.join(root, name))\n",
    "#         if name.endswith(\".txt\"):\n",
    "#             print(name)\n",
    "        \n",
    "    for name in dirs:\n",
    "        print(os.path.join(root, name))\n",
    "#         print(name)"
   ]
  },
  {
   "cell_type": "code",
   "execution_count": null,
   "metadata": {
    "collapsed": true
   },
   "outputs": [],
   "source": []
  }
 ],
 "metadata": {
  "anaconda-cloud": {},
  "kernelspec": {
   "display_name": "Python [default]",
   "language": "python",
   "name": "python3"
  },
  "language_info": {
   "codemirror_mode": {
    "name": "ipython",
    "version": 3
   },
   "file_extension": ".py",
   "mimetype": "text/x-python",
   "name": "python",
   "nbconvert_exporter": "python",
   "pygments_lexer": "ipython3",
   "version": "3.5.2"
  }
 },
 "nbformat": 4,
 "nbformat_minor": 1
}
